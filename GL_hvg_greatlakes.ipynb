{
 "cells": [
  {
   "cell_type": "markdown",
   "id": "9cedeef7-e5ee-4c3a-9abf-45f0440e4a48",
   "metadata": {},
   "source": [
    "Great Lakes notebook for testing HVG code\n",
    "\n",
    "First generate cross validation splits, then calculate HVGs and scores"
   ]
  },
  {
   "cell_type": "code",
   "execution_count": null,
   "id": "0884850b-b826-46b9-97fb-d331ca70b3d8",
   "metadata": {
    "scrolled": true
   },
   "outputs": [],
   "source": [
    "# Installing packages\n",
    "# !pip install scanpy[skmisc]\n",
    "# !pip install xgboost\n",
    "# !pip install shap"
   ]
  },
  {
   "cell_type": "code",
   "execution_count": 1,
   "id": "c05e01ea-0ecb-47c9-9b87-2c4bac73086e",
   "metadata": {},
   "outputs": [],
   "source": [
    "import sys\n",
    "sys.path.insert(1, '/home/gylam/siads699/Cancer_Prediction_10x')"
   ]
  },
  {
   "cell_type": "code",
   "execution_count": 2,
   "id": "90075d24-88a4-4aa7-9b43-ca06e049ecfd",
   "metadata": {},
   "outputs": [
    {
     "name": "stderr",
     "output_type": "stream",
     "text": [
      "/sw/pkgs/arc/mamba/py3.10/lib/python3.10/site-packages/tqdm/auto.py:21: TqdmWarning: IProgress not found. Please update jupyter and ipywidgets. See https://ipywidgets.readthedocs.io/en/stable/user_install.html\n",
      "  from .autonotebook import tqdm as notebook_tqdm\n"
     ]
    }
   ],
   "source": [
    "from main_functions import *\n",
    "\n",
    "import pandas as pd\n",
    "import numpy as np\n",
    "import pickle\n",
    "import json\n",
    "\n",
    "import scanpy as sc\n",
    "from xgboost import XGBClassifier\n",
    "import shap\n",
    "\n",
    "import matplotlib.pyplot as plt\n",
    "import seaborn as sns"
   ]
  },
  {
   "cell_type": "code",
   "execution_count": 3,
   "id": "a6a168fa-f820-4075-aac6-c0324de4f402",
   "metadata": {},
   "outputs": [],
   "source": [
    "# Constants\n",
    "RANDOM_STATE = 42\n",
    "CV = 5"
   ]
  },
  {
   "cell_type": "code",
   "execution_count": null,
   "id": "3259503c-4605-422f-a996-816d9f834708",
   "metadata": {
    "jupyter": {
     "source_hidden": true
    }
   },
   "outputs": [],
   "source": [
    "# Load training dataset into anndata object\n",
    "#adata = create_adata_train('EMTAB8107_2102-Breastcancer_counts','BRCA_EMTAB8107_expression.h5','EMTAB8107_2103-Breastcancer_metadata.csv.gz')\n",
    "\n",
    "# Save adata to h5ad\n",
    "#adata.write_h5ad('adata.h5ad')"
   ]
  },
  {
   "cell_type": "code",
   "execution_count": 4,
   "id": "241aa252-47af-49f6-8c44-668f49ac59b7",
   "metadata": {},
   "outputs": [
    {
     "name": "stdout",
     "output_type": "stream",
     "text": [
      "AnnData object with n_obs × n_vars = 33043 × 22830\n",
      "    obs: 'nGene', 'nUMI', 'CellFromTumor', 'PatientNumber', 'TumorType', 'TumorSite', 'CellType', 'orig_cancer_label'\n",
      "    var: 'gene_ids', 'feature_types', 'genome'\n",
      "    layers: 'norm', 'raw'\n"
     ]
    }
   ],
   "source": [
    "adata = sc.read_h5ad('adata.h5ad')\n",
    "print(adata)"
   ]
  },
  {
   "cell_type": "code",
   "execution_count": 5,
   "id": "71f7f52a-ba5e-497a-b05d-b76434d97d3e",
   "metadata": {},
   "outputs": [],
   "source": [
    "# Variables for training\n",
    "#clf = XGBClassifier(max_depth = 4, n_estimators = 50, random_state = RANDOM_STATE)\n",
    "clf = XGBClassifier(eta = 0.3, max_depth = 2, n_estimators = 100, random_state = RANDOM_STATE) #, max_iter = 500\n",
    "num_features = [20, 50, 100, 200, 300, 400, 500, 1000, 2000, 5000]\n",
    "#num_features = [20, 50, 100, 200, 300]\n",
    "feat_sel_list = ['dge', 'seurat_v3', 'pearson_residuals', 'seurat', 'cell_ranger', 'random_all_genes'] # 'random_per_num'"
   ]
  },
  {
   "cell_type": "code",
   "execution_count": null,
   "id": "2fc4d281-f6c8-4909-be78-a881803e4fa1",
   "metadata": {
    "scrolled": true
   },
   "outputs": [],
   "source": [
    "# For XGBoost, compare different numbers of features and different methods for selecting highly variable genes\n",
    "\n",
    "results_df, fold_index, feat_order, shap_results = train_feat_loop_cv(clf, adata, 'PatientNumber', num_features, feat_sel_list,\n",
    "                       random_state = RANDOM_STATE, k_fold = CV)\n",
    "print(results_df.shape)\n",
    "display(results_df.head())\n",
    "results_df.to_csv('results_df_20241118_withdge.csv')"
   ]
  },
  {
   "cell_type": "code",
   "execution_count": null,
   "id": "987a96cf-beb5-42ba-a7d5-520026bd1152",
   "metadata": {},
   "outputs": [],
   "source": [
    "# Plot performance metrics\n",
    "results_df_pivot, fig= make_line_plots_metrics(results_df)\n",
    "results_df_pivot.to_csv('results_df_pivot_20241118.csv')\n",
    "fig.savefig('metrics_comparison_20241118.png')"
   ]
  },
  {
   "cell_type": "code",
   "execution_count": null,
   "id": "ae19f5aa-01ee-4fd3-a031-4599785b408b",
   "metadata": {
    "jupyter": {
     "source_hidden": true
    }
   },
   "outputs": [],
   "source": [
    "# Revise metrics plot - 4 metrics, larger fonts\n",
    "\n",
    "results_df_sub = results_df[['feat_sel_type', 'num_features', 'fold', 'f1', 'accuracy', 'recall', 'precision']]\n",
    "results_df_tall = results_df_sub.melt(id_vars=['feat_sel_type', 'num_features', 'fold'], var_name='metric', value_name='score')\n",
    "display(results_df_tall.head())\n",
    "\n",
    "# Save dataframe summarizing mean and stdev\n",
    "results_df_pivot = pd.pivot_table(results_df_tall,\n",
    "                                values=['score'],\n",
    "                                index = ['feat_sel_type', 'num_features'],\n",
    "                                columns = ['metric'],\n",
    "                                aggfunc=['mean', 'std'])\n",
    "\n",
    "# Plot 1 figure with all test metrics versus number of features - Facet by metric. Color by feature type\n",
    "\n",
    "#sns.set_theme(style='white')\n",
    "#with sns.plotting_context(font_scale=1.5):\n",
    "g = sns.catplot(\n",
    "  data=results_df_tall,\n",
    "  x='num_features', y='score', col='metric',\n",
    "  hue = 'feat_sel_type', col_wrap = 4, kind='point', capsize = 0.2,\n",
    "  sharex = False, alpha = 0.7\n",
    ")\n",
    "g.savefig('metrics.png')"
   ]
  },
  {
   "cell_type": "code",
   "execution_count": null,
   "id": "9865b256-5e54-4aca-b838-a9c9cfe31526",
   "metadata": {
    "scrolled": true
   },
   "outputs": [],
   "source": [
    "# Save SHAP values and feature order dictionaries to file\n",
    "with open(\"shap_dict.pickle\", \"wb\") as file:\n",
    "    pickle.dump(shap_results, file, pickle.HIGHEST_PROTOCOL)\n",
    "\n",
    "with open(\"feat_order.pickle\", \"wb\") as file:\n",
    "    pickle.dump(feat_order, file, pickle.HIGHEST_PROTOCOL)\n",
    "\n",
    "# Also save test folds\n",
    "with open(\"fold_index_dict.pickle\", \"wb\") as file:\n",
    "    pickle.dump(fold_index, file, pickle.HIGHEST_PROTOCOL)"
   ]
  },
  {
   "cell_type": "code",
   "execution_count": 7,
   "id": "15788b2f-47e5-4413-8437-c87788c51985",
   "metadata": {
    "scrolled": true
   },
   "outputs": [],
   "source": [
    "# Load in dictionaries\n",
    "with open(\"feat_order.pickle\", \"rb\") as f:\n",
    "    feat_dict = pickle.load(f)\n",
    "with open(\"shap_dict.pickle\", \"rb\") as f:\n",
    "    shap_dict = pickle.load(f)\n",
    "with open(\"fold_index_dict.pickle\", \"rb\") as f:\n",
    "    fold_index_dict = pickle.load(f)"
   ]
  },
  {
   "cell_type": "code",
   "execution_count": null,
   "id": "b8fb84ab-2c27-4a51-8b3e-182cd0c68ae8",
   "metadata": {
    "jupyter": {
     "source_hidden": true
    }
   },
   "outputs": [],
   "source": [
    "# # Set up X and y\n",
    "# X = adata.copy()\n",
    "# y = adata.obs['orig_cancer_label']\n",
    "# groups_col = adata.obs['PatientNumber']\n",
    "# fold_indices_dict = {}\n",
    "\n",
    "# # Generate cross-validation splits using StratifiedGroupKFold\n",
    "# sgkf = StratifiedGroupKFold(n_splits=CV, shuffle = True, random_state = RANDOM_STATE)\n",
    "# # Loop through each fold\n",
    "# for i, (train_index, test_index) in enumerate(sgkf.split(X, y, groups_col)):\n",
    "#     print(f'i: {i}')\n",
    "#     X_train, X_test = X[train_index], X[test_index]\n",
    "#     y_train, y_test = y.iloc[train_index], y.iloc[test_index]\n",
    "    \n",
    "#     # Store train and test indices in a dictionary by fold\n",
    "#     fold_indices_dict[i] = {'train': train_index, 'test': test_index}\n",
    "\n",
    "# # Also save test folds\n",
    "# with open(\"fold_indices_dict.pickle\", \"wb\") as file:\n",
    "#     pickle.dump(fold_indices_dict, file, pickle.HIGHEST_PROTOCOL)\n",
    "\n",
    "# fold_indices_dict"
   ]
  },
  {
   "cell_type": "code",
   "execution_count": 8,
   "id": "14df32e9-cb1f-4552-b808-9ac12979d234",
   "metadata": {
    "scrolled": true
   },
   "outputs": [
    {
     "name": "stdout",
     "output_type": "stream",
     "text": [
      "curr_method: dge\n",
      "curr_num: 20\n",
      "fold: 0\n",
      "fold: 1\n",
      "fold: 2\n",
      "fold: 3\n",
      "fold: 4\n",
      "curr_num: 50\n",
      "fold: 0\n",
      "fold: 1\n",
      "fold: 2\n",
      "fold: 3\n",
      "fold: 4\n",
      "curr_num: 100\n",
      "fold: 0\n",
      "fold: 1\n",
      "fold: 2\n",
      "fold: 3\n",
      "fold: 4\n",
      "curr_num: 200\n",
      "fold: 0\n",
      "fold: 1\n",
      "fold: 2\n",
      "fold: 3\n",
      "fold: 4\n",
      "curr_num: 300\n",
      "fold: 0\n",
      "fold: 1\n",
      "fold: 2\n",
      "fold: 3\n",
      "fold: 4\n",
      "curr_num: 5000\n",
      "fold: 0\n",
      "fold: 1\n",
      "fold: 2\n",
      "fold: 3\n",
      "fold: 4\n",
      "curr_method: seurat_v3\n",
      "curr_num: 20\n",
      "fold: 0\n",
      "fold: 1\n",
      "fold: 2\n",
      "fold: 3\n",
      "fold: 4\n",
      "curr_num: 50\n",
      "fold: 0\n",
      "fold: 1\n",
      "fold: 2\n",
      "fold: 3\n",
      "fold: 4\n",
      "curr_num: 100\n",
      "fold: 0\n",
      "fold: 1\n",
      "fold: 2\n",
      "fold: 3\n",
      "fold: 4\n",
      "curr_num: 200\n",
      "fold: 0\n",
      "fold: 1\n",
      "fold: 2\n",
      "fold: 3\n",
      "fold: 4\n",
      "curr_num: 300\n",
      "fold: 0\n",
      "fold: 1\n",
      "fold: 2\n",
      "fold: 3\n",
      "fold: 4\n",
      "curr_num: 5000\n",
      "fold: 0\n",
      "fold: 1\n",
      "fold: 2\n",
      "fold: 3\n",
      "fold: 4\n",
      "curr_method: pearson_residuals\n",
      "curr_num: 20\n",
      "fold: 0\n",
      "fold: 1\n",
      "fold: 2\n",
      "fold: 3\n",
      "fold: 4\n",
      "curr_num: 50\n",
      "fold: 0\n",
      "fold: 1\n",
      "fold: 2\n",
      "fold: 3\n",
      "fold: 4\n",
      "curr_num: 100\n",
      "fold: 0\n",
      "fold: 1\n",
      "fold: 2\n",
      "fold: 3\n",
      "fold: 4\n",
      "curr_num: 200\n",
      "fold: 0\n",
      "fold: 1\n",
      "fold: 2\n",
      "fold: 3\n",
      "fold: 4\n",
      "curr_num: 300\n",
      "fold: 0\n",
      "fold: 1\n",
      "fold: 2\n",
      "fold: 3\n",
      "fold: 4\n",
      "curr_num: 5000\n",
      "fold: 0\n",
      "fold: 1\n",
      "fold: 2\n",
      "fold: 3\n",
      "fold: 4\n",
      "curr_method: seurat\n",
      "curr_num: 20\n",
      "fold: 0\n",
      "fold: 1\n",
      "fold: 2\n",
      "fold: 3\n",
      "fold: 4\n",
      "curr_num: 50\n",
      "fold: 0\n",
      "fold: 1\n",
      "fold: 2\n",
      "fold: 3\n",
      "fold: 4\n",
      "curr_num: 100\n",
      "fold: 0\n",
      "fold: 1\n",
      "fold: 2\n",
      "fold: 3\n",
      "fold: 4\n",
      "curr_num: 200\n",
      "fold: 0\n",
      "fold: 1\n",
      "fold: 2\n",
      "fold: 3\n",
      "fold: 4\n",
      "curr_num: 300\n",
      "fold: 0\n",
      "fold: 1\n",
      "fold: 2\n",
      "fold: 3\n",
      "fold: 4\n",
      "curr_num: 5000\n",
      "fold: 0\n",
      "fold: 1\n",
      "fold: 2\n",
      "fold: 3\n",
      "fold: 4\n",
      "curr_method: cell_ranger\n",
      "curr_num: 20\n",
      "fold: 0\n",
      "fold: 1\n",
      "fold: 2\n",
      "fold: 3\n",
      "fold: 4\n",
      "curr_num: 50\n",
      "fold: 0\n",
      "fold: 1\n",
      "fold: 2\n",
      "fold: 3\n",
      "fold: 4\n",
      "curr_num: 100\n",
      "fold: 0\n",
      "fold: 1\n",
      "fold: 2\n",
      "fold: 3\n",
      "fold: 4\n",
      "curr_num: 200\n",
      "fold: 0\n",
      "fold: 1\n",
      "fold: 2\n",
      "fold: 3\n",
      "fold: 4\n",
      "curr_num: 300\n",
      "fold: 0\n",
      "fold: 1\n",
      "fold: 2\n",
      "fold: 3\n",
      "fold: 4\n",
      "curr_num: 5000\n",
      "fold: 0\n",
      "fold: 1\n",
      "fold: 2\n",
      "fold: 3\n",
      "fold: 4\n",
      "curr_method: random_all_genes\n",
      "curr_num: 20\n",
      "fold: 0\n",
      "fold: 1\n",
      "fold: 2\n",
      "fold: 3\n",
      "fold: 4\n",
      "curr_num: 50\n",
      "fold: 0\n",
      "fold: 1\n",
      "fold: 2\n",
      "fold: 3\n",
      "fold: 4\n",
      "curr_num: 100\n",
      "fold: 0\n",
      "fold: 1\n",
      "fold: 2\n",
      "fold: 3\n",
      "fold: 4\n",
      "curr_num: 200\n",
      "fold: 0\n",
      "fold: 1\n",
      "fold: 2\n",
      "fold: 3\n",
      "fold: 4\n",
      "curr_num: 300\n",
      "fold: 0\n",
      "fold: 1\n",
      "fold: 2\n",
      "fold: 3\n",
      "fold: 4\n",
      "curr_num: 5000\n",
      "fold: 0\n",
      "fold: 1\n",
      "fold: 2\n",
      "fold: 3\n",
      "fold: 4\n"
     ]
    }
   ],
   "source": [
    "# Loop through to plot\n",
    "num_features = [20, 50, 100, 200, 300, 5000]\n",
    "feat_sel_list = ['dge', 'seurat_v3', 'pearson_residuals', 'seurat', 'cell_ranger', 'random_all_genes'] #, 'random_per_num'\n",
    "for curr_method in feat_sel_list:\n",
    "    print(f'curr_method: {curr_method}')\n",
    "    for curr_num in num_features:\n",
    "        print(f'curr_num: {curr_num}')\n",
    "        shap_vals_df = plot_feat_importance(adata, curr_method, curr_num,\n",
    "                                       #   feat_order, shap_results, fold_index)\n",
    "                                            feat_dict, shap_dict, fold_index_dict,\n",
    "                                           'outputs/20241118/')\n"
   ]
  },
  {
   "cell_type": "code",
   "execution_count": 9,
   "id": "592519bb-31ca-4cdb-aa7e-0994cac7c66a",
   "metadata": {
    "scrolled": true
   },
   "outputs": [
    {
     "name": "stdout",
     "output_type": "stream",
     "text": [
      "fold: 0\n",
      "fold: 1\n",
      "fold: 2\n",
      "fold: 3\n",
      "fold: 4\n"
     ]
    },
    {
     "data": {
      "text/html": [
       "<div>\n",
       "<style scoped>\n",
       "    .dataframe tbody tr th:only-of-type {\n",
       "        vertical-align: middle;\n",
       "    }\n",
       "\n",
       "    .dataframe tbody tr th {\n",
       "        vertical-align: top;\n",
       "    }\n",
       "\n",
       "    .dataframe thead th {\n",
       "        text-align: right;\n",
       "    }\n",
       "</style>\n",
       "<table border=\"1\" class=\"dataframe\">\n",
       "  <thead>\n",
       "    <tr style=\"text-align: right;\">\n",
       "      <th></th>\n",
       "      <th>method1</th>\n",
       "      <th>method2</th>\n",
       "      <th>num_features</th>\n",
       "      <th>fold</th>\n",
       "      <th>jaccard_coeff</th>\n",
       "    </tr>\n",
       "  </thead>\n",
       "  <tbody>\n",
       "    <tr>\n",
       "      <th>445</th>\n",
       "      <td>random_all_genes</td>\n",
       "      <td>dge</td>\n",
       "      <td>5000</td>\n",
       "      <td>4</td>\n",
       "      <td>0.111246</td>\n",
       "    </tr>\n",
       "    <tr>\n",
       "      <th>446</th>\n",
       "      <td>random_all_genes</td>\n",
       "      <td>seurat_v3</td>\n",
       "      <td>5000</td>\n",
       "      <td>4</td>\n",
       "      <td>0.118568</td>\n",
       "    </tr>\n",
       "    <tr>\n",
       "      <th>447</th>\n",
       "      <td>random_all_genes</td>\n",
       "      <td>pearson_residuals</td>\n",
       "      <td>5000</td>\n",
       "      <td>4</td>\n",
       "      <td>0.118944</td>\n",
       "    </tr>\n",
       "    <tr>\n",
       "      <th>448</th>\n",
       "      <td>random_all_genes</td>\n",
       "      <td>seurat</td>\n",
       "      <td>5000</td>\n",
       "      <td>4</td>\n",
       "      <td>0.116695</td>\n",
       "    </tr>\n",
       "    <tr>\n",
       "      <th>449</th>\n",
       "      <td>random_all_genes</td>\n",
       "      <td>cell_ranger</td>\n",
       "      <td>5000</td>\n",
       "      <td>4</td>\n",
       "      <td>0.116445</td>\n",
       "    </tr>\n",
       "  </tbody>\n",
       "</table>\n",
       "</div>"
      ],
      "text/plain": [
       "              method1            method2  num_features  fold  jaccard_coeff\n",
       "445  random_all_genes                dge          5000     4       0.111246\n",
       "446  random_all_genes          seurat_v3          5000     4       0.118568\n",
       "447  random_all_genes  pearson_residuals          5000     4       0.118944\n",
       "448  random_all_genes             seurat          5000     4       0.116695\n",
       "449  random_all_genes        cell_ranger          5000     4       0.116445"
      ]
     },
     "execution_count": 9,
     "metadata": {},
     "output_type": "execute_result"
    }
   ],
   "source": [
    "# calculate Jaccard coefficient\n",
    "df = calc_jaccard_coeff(feat_sel_list, num_features, feat_dict, 5)\n",
    "df.tail()\n",
    "#df.to_csv('jaccard_df.csv')"
   ]
  },
  {
   "cell_type": "code",
   "execution_count": 10,
   "id": "8089d840-db16-4b5a-b17e-86d7f1c6cffd",
   "metadata": {
    "scrolled": true
   },
   "outputs": [
    {
     "data": {
      "text/html": [
       "<div>\n",
       "<style scoped>\n",
       "    .dataframe tbody tr th:only-of-type {\n",
       "        vertical-align: middle;\n",
       "    }\n",
       "\n",
       "    .dataframe tbody tr th {\n",
       "        vertical-align: top;\n",
       "    }\n",
       "\n",
       "    .dataframe thead th {\n",
       "        text-align: right;\n",
       "    }\n",
       "</style>\n",
       "<table border=\"1\" class=\"dataframe\">\n",
       "  <thead>\n",
       "    <tr style=\"text-align: right;\">\n",
       "      <th></th>\n",
       "      <th>method1</th>\n",
       "      <th>method2</th>\n",
       "      <th>num_features</th>\n",
       "      <th>fold</th>\n",
       "      <th>jaccard_coeff</th>\n",
       "    </tr>\n",
       "  </thead>\n",
       "  <tbody>\n",
       "    <tr>\n",
       "      <th>0</th>\n",
       "      <td>seurat_v3</td>\n",
       "      <td>dge</td>\n",
       "      <td>20</td>\n",
       "      <td>0</td>\n",
       "      <td>0.000000</td>\n",
       "    </tr>\n",
       "    <tr>\n",
       "      <th>1</th>\n",
       "      <td>pearson_residuals</td>\n",
       "      <td>dge</td>\n",
       "      <td>20</td>\n",
       "      <td>0</td>\n",
       "      <td>0.000000</td>\n",
       "    </tr>\n",
       "    <tr>\n",
       "      <th>2</th>\n",
       "      <td>pearson_residuals</td>\n",
       "      <td>seurat_v3</td>\n",
       "      <td>20</td>\n",
       "      <td>0</td>\n",
       "      <td>0.111111</td>\n",
       "    </tr>\n",
       "    <tr>\n",
       "      <th>3</th>\n",
       "      <td>seurat</td>\n",
       "      <td>dge</td>\n",
       "      <td>20</td>\n",
       "      <td>0</td>\n",
       "      <td>0.000000</td>\n",
       "    </tr>\n",
       "    <tr>\n",
       "      <th>4</th>\n",
       "      <td>seurat</td>\n",
       "      <td>seurat_v3</td>\n",
       "      <td>20</td>\n",
       "      <td>0</td>\n",
       "      <td>0.000000</td>\n",
       "    </tr>\n",
       "  </tbody>\n",
       "</table>\n",
       "</div>"
      ],
      "text/plain": [
       "             method1    method2  num_features  fold  jaccard_coeff\n",
       "0          seurat_v3        dge            20     0       0.000000\n",
       "1  pearson_residuals        dge            20     0       0.000000\n",
       "2  pearson_residuals  seurat_v3            20     0       0.111111\n",
       "3             seurat        dge            20     0       0.000000\n",
       "4             seurat  seurat_v3            20     0       0.000000"
      ]
     },
     "metadata": {},
     "output_type": "display_data"
    }
   ],
   "source": [
    "#df.sort_values('jaccard_coeff', ascending = False).head(20)\n",
    "\n",
    "# Average Jaccard coefficients across folds\n",
    "#df = pd.read_csv('jaccard_df.csv', index_col = 0)\n",
    "display(df.head())\n",
    "df_grp = df.groupby(['method1', 'method2', 'num_features'])['jaccard_coeff'].agg(['mean', 'std'])\n",
    "df_grp.to_csv('jaccard_coeff_grp_20241118.csv')"
   ]
  },
  {
   "cell_type": "code",
   "execution_count": 12,
   "id": "3a3d0fbe-ffcc-4626-b003-5e6f7b5416c8",
   "metadata": {},
   "outputs": [
    {
     "name": "stdout",
     "output_type": "stream",
     "text": [
      "curr_method: dge\n"
     ]
    },
    {
     "ename": "NameError",
     "evalue": "name 'fold' is not defined",
     "output_type": "error",
     "traceback": [
      "\u001b[0;31m---------------------------------------------------------------------------\u001b[0m",
      "\u001b[0;31mNameError\u001b[0m                                 Traceback (most recent call last)",
      "Cell \u001b[0;32mIn[12], line 3\u001b[0m\n\u001b[1;32m      1\u001b[0m \u001b[38;5;66;03m# Calculate jaccard between folds of same method/num features\u001b[39;00m\n\u001b[1;32m      2\u001b[0m feat_sel_list \u001b[38;5;241m=\u001b[39m [\u001b[38;5;124m'\u001b[39m\u001b[38;5;124mdge\u001b[39m\u001b[38;5;124m'\u001b[39m, \u001b[38;5;124m'\u001b[39m\u001b[38;5;124mseurat_v3\u001b[39m\u001b[38;5;124m'\u001b[39m, \u001b[38;5;124m'\u001b[39m\u001b[38;5;124mpearson_residuals\u001b[39m\u001b[38;5;124m'\u001b[39m, \u001b[38;5;124m'\u001b[39m\u001b[38;5;124mseurat\u001b[39m\u001b[38;5;124m'\u001b[39m, \u001b[38;5;124m'\u001b[39m\u001b[38;5;124mcell_ranger\u001b[39m\u001b[38;5;124m'\u001b[39m]\n\u001b[0;32m----> 3\u001b[0m df2 \u001b[38;5;241m=\u001b[39m \u001b[43mcalc_jaccard_coeff_btw_folds\u001b[49m\u001b[43m(\u001b[49m\u001b[43mfeat_sel_list\u001b[49m\u001b[43m,\u001b[49m\u001b[43m \u001b[49m\u001b[43mnum_features\u001b[49m\u001b[43m,\u001b[49m\u001b[43m \u001b[49m\u001b[43mfeat_dict\u001b[49m\u001b[43m,\u001b[49m\u001b[43m \u001b[49m\u001b[38;5;241;43m5\u001b[39;49m\u001b[43m)\u001b[49m\n\u001b[1;32m      4\u001b[0m df2\u001b[38;5;241m.\u001b[39mto_csv(\u001b[38;5;124m'\u001b[39m\u001b[38;5;124mjaccard_df_btw_folds_20241118.csv\u001b[39m\u001b[38;5;124m'\u001b[39m)\n",
      "File \u001b[0;32m~/siads699/Cancer_Prediction_10x/main_functions.py:393\u001b[0m, in \u001b[0;36mcalc_jaccard_coeff_btw_folds\u001b[0;34m(method_list, num_feat_list, feat_dict, num_folds)\u001b[0m\n\u001b[1;32m    388\u001b[0m \u001b[38;5;28;01mfor\u001b[39;00m i \u001b[38;5;129;01min\u001b[39;00m \u001b[38;5;28mrange\u001b[39m(num_folds):\n\u001b[1;32m    389\u001b[0m     \u001b[38;5;66;03m# Get list of features for fold 1\u001b[39;00m\n\u001b[1;32m    390\u001b[0m     \u001b[38;5;66;03m# if curr_method == 'random_per_num':\u001b[39;00m\n\u001b[1;32m    391\u001b[0m     \u001b[38;5;66;03m#   curr_feat_1 = feat_dict[curr_method][i][curr_num_feat]\u001b[39;00m\n\u001b[1;32m    392\u001b[0m     \u001b[38;5;28;01mif\u001b[39;00m curr_method \u001b[38;5;241m==\u001b[39m \u001b[38;5;124m'\u001b[39m\u001b[38;5;124mdge\u001b[39m\u001b[38;5;124m'\u001b[39m:\n\u001b[0;32m--> 393\u001b[0m       curr_feat_1 \u001b[38;5;241m=\u001b[39m feat_dict[curr_method][\u001b[43mfold\u001b[49m][\u001b[38;5;124m'\u001b[39m\u001b[38;5;124mcancer\u001b[39m\u001b[38;5;124m'\u001b[39m][:\u001b[38;5;28mint\u001b[39m(curr_num_feat\u001b[38;5;241m/\u001b[39m\u001b[38;5;241m2\u001b[39m)]\u001b[38;5;241m.\u001b[39mappend(feat_dict[curr_method][fold][\u001b[38;5;124m'\u001b[39m\u001b[38;5;124mnorm\u001b[39m\u001b[38;5;124m'\u001b[39m][:\u001b[38;5;28mint\u001b[39m(curr_num_feat\u001b[38;5;241m/\u001b[39m\u001b[38;5;241m2\u001b[39m)]) \n\u001b[1;32m    394\u001b[0m     \u001b[38;5;28;01melse\u001b[39;00m:\n\u001b[1;32m    395\u001b[0m       curr_feat_1 \u001b[38;5;241m=\u001b[39m feat_dict[curr_method][i][:curr_num_feat]\n",
      "\u001b[0;31mNameError\u001b[0m: name 'fold' is not defined"
     ]
    }
   ],
   "source": [
    "# Calculate jaccard between folds of same method/num features\n",
    "feat_sel_list = ['dge', 'seurat_v3', 'pearson_residuals', 'seurat', 'cell_ranger']\n",
    "df2 = calc_jaccard_coeff_btw_folds(feat_sel_list, num_features, feat_dict, 5)\n",
    "df2.to_csv('jaccard_df_btw_folds_20241118.csv')"
   ]
  },
  {
   "cell_type": "code",
   "execution_count": null,
   "id": "783a958e-be8b-4f80-bca7-f58bcbbe2eaf",
   "metadata": {},
   "outputs": [],
   "source": [
    "df2.sort_values('jaccard_coeff', ascending = False).head(20)"
   ]
  },
  {
   "cell_type": "code",
   "execution_count": null,
   "id": "c27cebbb-71b6-4115-8b52-b438274be71f",
   "metadata": {},
   "outputs": [],
   "source": [
    "# Apply pipeline to run RandomizedSearchCV with highly variable features"
   ]
  }
 ],
 "metadata": {
  "kernelspec": {
   "display_name": "Python 3 (ipykernel)",
   "language": "python",
   "name": "python3"
  },
  "language_info": {
   "codemirror_mode": {
    "name": "ipython",
    "version": 3
   },
   "file_extension": ".py",
   "mimetype": "text/x-python",
   "name": "python",
   "nbconvert_exporter": "python",
   "pygments_lexer": "ipython3",
   "version": "3.10.14"
  }
 },
 "nbformat": 4,
 "nbformat_minor": 5
}
