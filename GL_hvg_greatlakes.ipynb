version https://git-lfs.github.com/spec/v1
oid sha256:3a69259a1597c9408a5a388cefd2ddf4cb1d367a729fcaba3fe05e819210c7c8
size 392038
