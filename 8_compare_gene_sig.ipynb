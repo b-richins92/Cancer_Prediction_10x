{
 "cells": [
  {
   "cell_type": "markdown",
   "metadata": {
    "id": "qvYLKl1SrQJy"
   },
   "source": [
    "# Notebook 8: Comparison with known gene signatures\n",
    "Goal: Compare genes associated with tumor/normal cells with existing gene signatures (ikarus, Parker 2009 - breast cancer microarrays)"
   ]
  },
  {
   "cell_type": "code",
   "execution_count": 1,
   "metadata": {
    "executionInfo": {
     "elapsed": 14939,
     "status": "ok",
     "timestamp": 1732306460418,
     "user": {
      "displayName": "Gretchen Lam",
      "userId": "01122465778512776313"
     },
     "user_tz": 300
    },
    "id": "aPGi3I9KrNmF"
   },
   "outputs": [],
   "source": [
    "import os\n",
    "from pathlib import Path\n",
    "import pandas as pd\n",
    "import numpy as np"
   ]
  },
  {
   "cell_type": "code",
   "execution_count": 2,
   "metadata": {},
   "outputs": [
    {
     "name": "stdin",
     "output_type": "stream",
     "text": [
      "Please enter the path of the folder containing datasets:  ../data/\n"
     ]
    }
   ],
   "source": [
    "# Set up working directory\n",
    "folder_path = input('Please enter the path of the folder containing datasets: ')\n",
    "os.chdir(folder_path)"
   ]
  },
  {
   "cell_type": "code",
   "execution_count": 3,
   "metadata": {
    "colab": {
     "base_uri": "https://localhost:8080/",
     "height": 228
    },
    "executionInfo": {
     "elapsed": 492,
     "status": "ok",
     "timestamp": 1732293428721,
     "user": {
      "displayName": "Gretchen Lam",
      "userId": "01122465778512776313"
     },
     "user_tz": 300
    },
    "id": "sPZSu4tusgRo",
    "outputId": "0f3c5415-dc16-4ef7-cea0-8a09cfe6660d"
   },
   "outputs": [
    {
     "data": {
      "text/html": [
       "<div>\n",
       "<style scoped>\n",
       "    .dataframe tbody tr th:only-of-type {\n",
       "        vertical-align: middle;\n",
       "    }\n",
       "\n",
       "    .dataframe tbody tr th {\n",
       "        vertical-align: top;\n",
       "    }\n",
       "\n",
       "    .dataframe thead th {\n",
       "        text-align: right;\n",
       "    }\n",
       "</style>\n",
       "<table border=\"1\" class=\"dataframe\">\n",
       "  <thead>\n",
       "    <tr style=\"text-align: right;\">\n",
       "      <th></th>\n",
       "      <th>1</th>\n",
       "      <th>2</th>\n",
       "      <th>3</th>\n",
       "      <th>4</th>\n",
       "      <th>5</th>\n",
       "      <th>6</th>\n",
       "      <th>7</th>\n",
       "      <th>8</th>\n",
       "      <th>9</th>\n",
       "      <th>10</th>\n",
       "      <th>...</th>\n",
       "      <th>1305</th>\n",
       "      <th>1306</th>\n",
       "      <th>1307</th>\n",
       "      <th>1308</th>\n",
       "      <th>1309</th>\n",
       "      <th>1310</th>\n",
       "      <th>1311</th>\n",
       "      <th>1312</th>\n",
       "      <th>1313</th>\n",
       "      <th>1314</th>\n",
       "    </tr>\n",
       "    <tr>\n",
       "      <th>0</th>\n",
       "      <th></th>\n",
       "      <th></th>\n",
       "      <th></th>\n",
       "      <th></th>\n",
       "      <th></th>\n",
       "      <th></th>\n",
       "      <th></th>\n",
       "      <th></th>\n",
       "      <th></th>\n",
       "      <th></th>\n",
       "      <th></th>\n",
       "      <th></th>\n",
       "      <th></th>\n",
       "      <th></th>\n",
       "      <th></th>\n",
       "      <th></th>\n",
       "      <th></th>\n",
       "      <th></th>\n",
       "      <th></th>\n",
       "      <th></th>\n",
       "      <th></th>\n",
       "    </tr>\n",
       "  </thead>\n",
       "  <tbody>\n",
       "    <tr>\n",
       "      <th>Normal</th>\n",
       "      <td>ikarus</td>\n",
       "      <td>RP11-128M1.1</td>\n",
       "      <td>TRAV8-2</td>\n",
       "      <td>PTPRD-AS1</td>\n",
       "      <td>MEOX2</td>\n",
       "      <td>CXCL12</td>\n",
       "      <td>KLRC4-KLRK1</td>\n",
       "      <td>BCAS1</td>\n",
       "      <td>SCNN1A</td>\n",
       "      <td>HCST</td>\n",
       "      <td>...</td>\n",
       "      <td>C22ORF15</td>\n",
       "      <td>CYP4F11</td>\n",
       "      <td>AK8</td>\n",
       "      <td>LRRC18</td>\n",
       "      <td>LMO2</td>\n",
       "      <td>COL12A1</td>\n",
       "      <td>ITGA11</td>\n",
       "      <td>EGFL6</td>\n",
       "      <td>RGS11</td>\n",
       "      <td>PCDHB15</td>\n",
       "    </tr>\n",
       "    <tr>\n",
       "      <th>Tumor</th>\n",
       "      <td>ikarus</td>\n",
       "      <td>RP11-277P12.10</td>\n",
       "      <td>RP13-895J2.6</td>\n",
       "      <td>BNC1</td>\n",
       "      <td>MAGEA6</td>\n",
       "      <td>ISX</td>\n",
       "      <td>MAGEA3</td>\n",
       "      <td>RP13-614K11.2</td>\n",
       "      <td>CDH7</td>\n",
       "      <td>CALML3</td>\n",
       "      <td>...</td>\n",
       "      <td>NaN</td>\n",
       "      <td>NaN</td>\n",
       "      <td>NaN</td>\n",
       "      <td>NaN</td>\n",
       "      <td>NaN</td>\n",
       "      <td>NaN</td>\n",
       "      <td>NaN</td>\n",
       "      <td>NaN</td>\n",
       "      <td>NaN</td>\n",
       "      <td>NaN</td>\n",
       "    </tr>\n",
       "  </tbody>\n",
       "</table>\n",
       "<p>2 rows × 1314 columns</p>\n",
       "</div>"
      ],
      "text/plain": [
       "          1               2             3          4       5       6     \\\n",
       "0                                                                         \n",
       "Normal  ikarus    RP11-128M1.1       TRAV8-2  PTPRD-AS1   MEOX2  CXCL12   \n",
       "Tumor   ikarus  RP11-277P12.10  RP13-895J2.6       BNC1  MAGEA6     ISX   \n",
       "\n",
       "               7              8       9       10    ...      1305     1306  \\\n",
       "0                                                   ...                      \n",
       "Normal  KLRC4-KLRK1          BCAS1  SCNN1A    HCST  ...  C22ORF15  CYP4F11   \n",
       "Tumor        MAGEA3  RP13-614K11.2    CDH7  CALML3  ...       NaN      NaN   \n",
       "\n",
       "       1307    1308  1309     1310    1311   1312   1313     1314  \n",
       "0                                                                  \n",
       "Normal  AK8  LRRC18  LMO2  COL12A1  ITGA11  EGFL6  RGS11  PCDHB15  \n",
       "Tumor   NaN     NaN   NaN      NaN     NaN    NaN    NaN      NaN  \n",
       "\n",
       "[2 rows x 1314 columns]"
      ]
     },
     "metadata": {},
     "output_type": "display_data"
    }
   ],
   "source": [
    "# Load ikarus gene signature (from pre-trained model)\n",
    "# Downloaded signature from https://github.com/BIMSBbioinfo/ikarus/blob/master/tutorials/out/signatures.gmt\n",
    "signatures_path = Path('signatures_ikarus.gmt')\n",
    "gene_sig = pd.read_csv(signatures_path, sep='\\t', header=None, index_col = 0)\n",
    "display(gene_sig.head())"
   ]
  },
  {
   "cell_type": "code",
   "execution_count": 4,
   "metadata": {
    "colab": {
     "base_uri": "https://localhost:8080/",
     "height": 206
    },
    "executionInfo": {
     "elapsed": 796,
     "status": "ok",
     "timestamp": 1732296231538,
     "user": {
      "displayName": "Gretchen Lam",
      "userId": "01122465778512776313"
     },
     "user_tz": 300
    },
    "id": "cOHX_EwUtQyo",
    "outputId": "697e92f7-662c-424d-a780-a80574adc315"
   },
   "outputs": [
    {
     "data": {
      "text/html": [
       "<div>\n",
       "<style scoped>\n",
       "    .dataframe tbody tr th:only-of-type {\n",
       "        vertical-align: middle;\n",
       "    }\n",
       "\n",
       "    .dataframe tbody tr th {\n",
       "        vertical-align: top;\n",
       "    }\n",
       "\n",
       "    .dataframe thead th {\n",
       "        text-align: right;\n",
       "    }\n",
       "</style>\n",
       "<table border=\"1\" class=\"dataframe\">\n",
       "  <thead>\n",
       "    <tr style=\"text-align: right;\">\n",
       "      <th></th>\n",
       "      <th>gene_order</th>\n",
       "      <th>Normal</th>\n",
       "      <th>Tumor</th>\n",
       "    </tr>\n",
       "  </thead>\n",
       "  <tbody>\n",
       "    <tr>\n",
       "      <th>0</th>\n",
       "      <td>1</td>\n",
       "      <td>RP11-128M1.1</td>\n",
       "      <td>RP11-277P12.10</td>\n",
       "    </tr>\n",
       "    <tr>\n",
       "      <th>1</th>\n",
       "      <td>2</td>\n",
       "      <td>TRAV8-2</td>\n",
       "      <td>RP13-895J2.6</td>\n",
       "    </tr>\n",
       "    <tr>\n",
       "      <th>2</th>\n",
       "      <td>3</td>\n",
       "      <td>PTPRD-AS1</td>\n",
       "      <td>BNC1</td>\n",
       "    </tr>\n",
       "    <tr>\n",
       "      <th>3</th>\n",
       "      <td>4</td>\n",
       "      <td>MEOX2</td>\n",
       "      <td>MAGEA6</td>\n",
       "    </tr>\n",
       "    <tr>\n",
       "      <th>4</th>\n",
       "      <td>5</td>\n",
       "      <td>CXCL12</td>\n",
       "      <td>ISX</td>\n",
       "    </tr>\n",
       "  </tbody>\n",
       "</table>\n",
       "</div>"
      ],
      "text/plain": [
       "0  gene_order        Normal           Tumor\n",
       "0           1  RP11-128M1.1  RP11-277P12.10\n",
       "1           2       TRAV8-2    RP13-895J2.6\n",
       "2           3     PTPRD-AS1            BNC1\n",
       "3           4         MEOX2          MAGEA6\n",
       "4           5        CXCL12             ISX"
      ]
     },
     "metadata": {},
     "output_type": "display_data"
    }
   ],
   "source": [
    "# Transpose, get tumor and normal gene lists as columns\n",
    "gene_sig_transpose = gene_sig.T\n",
    "gene_sig_transpose = gene_sig_transpose.drop(index = 1).reset_index().rename(columns = {'index': 'gene_order'})\n",
    "gene_sig_transpose['gene_order'] = gene_sig_transpose['gene_order'] - 1\n",
    "display(gene_sig_transpose.head())"
   ]
  },
  {
   "cell_type": "code",
   "execution_count": 5,
   "metadata": {
    "colab": {
     "base_uri": "https://localhost:8080/"
    },
    "executionInfo": {
     "elapsed": 296,
     "status": "ok",
     "timestamp": 1732293701265,
     "user": {
      "displayName": "Gretchen Lam",
      "userId": "01122465778512776313"
     },
     "user_tz": 300
    },
    "id": "ypfcrt-Qvclg",
    "outputId": "2473ed74-24e5-4aec-c913-769df24efe5f"
   },
   "outputs": [
    {
     "name": "stdout",
     "output_type": "stream",
     "text": [
      "Number of tumor genes: 162, number of normal genes: 1313\n"
     ]
    }
   ],
   "source": [
    "# Get lists of tumor and normal genes from ikarus gene signature\n",
    "ikarus_tumor_genes = gene_sig_transpose['Tumor'].dropna().to_list()\n",
    "ikarus_norm_genes = gene_sig_transpose['Normal'].dropna().to_list()\n",
    "print(f'Number of tumor genes: {len(ikarus_tumor_genes)}, number of normal genes: {len(ikarus_norm_genes)}')"
   ]
  },
  {
   "cell_type": "code",
   "execution_count": 6,
   "metadata": {
    "colab": {
     "base_uri": "https://localhost:8080/",
     "height": 206
    },
    "executionInfo": {
     "elapsed": 289,
     "status": "ok",
     "timestamp": 1732293767220,
     "user": {
      "displayName": "Gretchen Lam",
      "userId": "01122465778512776313"
     },
     "user_tz": 300
    },
    "id": "-LBH282Vt8yW",
    "outputId": "04e7e5db-a5bd-40d3-cddc-fbd2b5e7a542"
   },
   "outputs": [
    {
     "data": {
      "text/html": [
       "<div>\n",
       "<style scoped>\n",
       "    .dataframe tbody tr th:only-of-type {\n",
       "        vertical-align: middle;\n",
       "    }\n",
       "\n",
       "    .dataframe tbody tr th {\n",
       "        vertical-align: top;\n",
       "    }\n",
       "\n",
       "    .dataframe thead th {\n",
       "        text-align: right;\n",
       "    }\n",
       "</style>\n",
       "<table border=\"1\" class=\"dataframe\">\n",
       "  <thead>\n",
       "    <tr style=\"text-align: right;\">\n",
       "      <th></th>\n",
       "      <th>gene</th>\n",
       "      <th>Name</th>\n",
       "      <th>num_papers</th>\n",
       "    </tr>\n",
       "  </thead>\n",
       "  <tbody>\n",
       "    <tr>\n",
       "      <th>0</th>\n",
       "      <td>AADACL1</td>\n",
       "      <td>Arylacetamide deacetylase-like 1</td>\n",
       "      <td>1</td>\n",
       "    </tr>\n",
       "    <tr>\n",
       "      <th>1</th>\n",
       "      <td>ABAT</td>\n",
       "      <td>4-aminobutyrate aminotransferase</td>\n",
       "      <td>1</td>\n",
       "    </tr>\n",
       "    <tr>\n",
       "      <th>2</th>\n",
       "      <td>ABCC11</td>\n",
       "      <td>ATP-binding cassette, sub-family C (CFTR/MRP),...</td>\n",
       "      <td>1</td>\n",
       "    </tr>\n",
       "    <tr>\n",
       "      <th>3</th>\n",
       "      <td>ABCC3</td>\n",
       "      <td>ATP-binding cassette, sub-family C (CFTR/MRP),...</td>\n",
       "      <td>2</td>\n",
       "    </tr>\n",
       "    <tr>\n",
       "      <th>4</th>\n",
       "      <td>ABCD3</td>\n",
       "      <td>ATP-binding cassette, sub-family D (ALD), memb...</td>\n",
       "      <td>2</td>\n",
       "    </tr>\n",
       "  </tbody>\n",
       "</table>\n",
       "</div>"
      ],
      "text/plain": [
       "      gene                                               Name  num_papers\n",
       "0  AADACL1                   Arylacetamide deacetylase-like 1           1\n",
       "1     ABAT                   4-aminobutyrate aminotransferase           1\n",
       "2   ABCC11  ATP-binding cassette, sub-family C (CFTR/MRP),...           1\n",
       "3    ABCC3  ATP-binding cassette, sub-family C (CFTR/MRP),...           2\n",
       "4    ABCD3  ATP-binding cassette, sub-family D (ALD), memb...           2"
      ]
     },
     "metadata": {},
     "output_type": "display_data"
    }
   ],
   "source": [
    "# Load in Parker 2009 list (Supplemental Table 5)\n",
    "# https://ascopubs.org/doi/10.1200/JCO.2008.18.1370\n",
    "parker_genes = pd.read_csv('parker2009_genes.csv')\n",
    "parker_genes = parker_genes.rename(columns = {'Gene Symbol': 'gene'})\n",
    "display(parker_genes.head())"
   ]
  },
  {
   "cell_type": "code",
   "execution_count": 9,
   "metadata": {
    "colab": {
     "base_uri": "https://localhost:8080/",
     "height": 1000
    },
    "executionInfo": {
     "elapsed": 5427,
     "status": "ok",
     "timestamp": 1732298357694,
     "user": {
      "displayName": "Gretchen Lam",
      "userId": "01122465778512776313"
     },
     "user_tz": 300
    },
    "id": "JIgstw5vsrAa",
    "outputId": "02ad2e21-2cad-432e-b64d-49970afb72b5",
    "scrolled": true
   },
   "outputs": [
    {
     "name": "stdout",
     "output_type": "stream",
     "text": [
      "Number of features in ikarus tumor: 3 out of 84 features in tumor_genes\n",
      "Number of features in ikarus normal: 29 out of 155 features in normal_genes\n",
      "Number of features in Parker tumor: 31 out of 84 features in tumor_genes\n",
      "\n",
      "Number of features in ikarus tumor: 0 out of 28 features in tumor_genes\n",
      "Number of features in ikarus normal: 4 out of 79 features in normal_genes\n",
      "Number of features in Parker tumor: 5 out of 28 features in tumor_genes\n",
      "\n",
      "Number of features in ikarus tumor: 1 out of 49 features in tumor_genes\n",
      "Number of features in ikarus normal: 25 out of 112 features in normal_genes\n",
      "Number of features in Parker tumor: 12 out of 49 features in tumor_genes\n",
      "\n"
     ]
    }
   ],
   "source": [
    "gene_overlap_stats = pd.DataFrame()\n",
    "\n",
    "# Load in SHAP value dataframes (generated from notebook 4) - 200 genes, Pearson, DGE, random\n",
    "for curr_file in os.listdir('shap_vals/'):\n",
    "    curr_overlap_df = pd.DataFrame()\n",
    "\n",
    "    # Load in file\n",
    "    curr_shap = pd.read_csv('shap_vals/' + curr_file, index_col = 0)\n",
    "\n",
    "    # Calculate mean feature importance values per gene (column)\n",
    "    curr_shap_mean = pd.DataFrame(curr_shap.mean(axis = 0), columns = ['mean_shap'])\n",
    "    curr_shap_mean = curr_shap_mean.sort_values(by = 'mean_shap', ascending = False)\n",
    "\n",
    "    # Drop rows with mean = 0\n",
    "    curr_shap_mean = curr_shap_mean[curr_shap_mean['mean_shap'] != 0]\n",
    "\n",
    "    # Get features means > 0 (tumor), < 0 (normal)\n",
    "    curr_shap_mean['feature_type'] = np.where(curr_shap_mean['mean_shap'] > 0, 'tumor', 'normal')\n",
    "    tumor_genes = curr_shap_mean[curr_shap_mean['feature_type'] == 'tumor'].index.to_list()\n",
    "    normal_genes = curr_shap_mean[curr_shap_mean['feature_type'] == 'normal'].index.to_list()\n",
    "\n",
    "    # Number of features overlapping with ikarus tumor signature\n",
    "    ikarus_tumor_overlap = gene_sig_transpose.loc[gene_sig_transpose['Tumor'].isin(tumor_genes), ['gene_order', 'Tumor']]\n",
    "    print(f'Number of features in ikarus tumor: {len(ikarus_tumor_overlap)} out of {len(tumor_genes)} features in tumor_genes')\n",
    "    curr_overlap_df = pd.concat([curr_overlap_df,\n",
    "                                 pd.DataFrame({'file_name': [curr_file], 'feature_type': ['ikarus_tumor'],\n",
    "                                               'num_feat_genesig': [len(ikarus_tumor_overlap)],\n",
    "                                               'num_feat_featsel': [len(tumor_genes)],\n",
    "                                               'perc_genesig': [len(ikarus_tumor_overlap) / len(tumor_genes)],\n",
    "                                               'overlap_genes': [ikarus_tumor_overlap['Tumor'].values],\n",
    "                                               })])\n",
    "\n",
    "    curr_shap_mean = curr_shap_mean.reset_index().rename(columns = {'index': 'gene'})\n",
    "    curr_shap_mean = (curr_shap_mean.merge(ikarus_tumor_overlap,\n",
    "                                           left_on = 'gene', right_on = 'Tumor', how = 'left')\n",
    "                                    .rename(columns = {'gene_order': 'gene_order_ikarus_tumor'})\n",
    "                                    .drop(columns = 'Tumor'))\n",
    "\n",
    "    # Number of features overlapping with ikarus normal signature\n",
    "    ikarus_norm_overlap = gene_sig_transpose.loc[gene_sig_transpose['Normal'].isin(normal_genes), ['gene_order', 'Normal']]\n",
    "    print(f'Number of features in ikarus normal: {len(ikarus_norm_overlap)} out of {len(normal_genes)} features in normal_genes')\n",
    "    curr_overlap_df = pd.concat([curr_overlap_df,\n",
    "                                 pd.DataFrame({'file_name': [curr_file], 'feature_type': ['ikarus_norm'],\n",
    "                                               'num_feat_genesig': [len(ikarus_norm_overlap)],\n",
    "                                               'num_feat_featsel': [len(normal_genes)],\n",
    "                                               'perc_genesig': [len(ikarus_norm_overlap) / len(normal_genes)],\n",
    "                                               'overlap_genes': [ikarus_norm_overlap['Normal'].values],\n",
    "                                               })])\n",
    "    curr_shap_mean = (curr_shap_mean.merge(ikarus_norm_overlap,\n",
    "                                           left_on = 'gene', right_on = 'Normal', how = 'left')\n",
    "                                    .rename(columns = {'gene_order': 'gene_order_ikarus_norm'})\n",
    "                                    .drop(columns = 'Normal'))\n",
    "\n",
    "    # Number of features overlapping with Parker 2009\n",
    "    parker_tumor_overlap = parker_genes.loc[parker_genes['gene'].isin(tumor_genes)]\n",
    "    print(f'Number of features in Parker tumor: {len(parker_tumor_overlap)} out of {len(tumor_genes)} features in tumor_genes')\n",
    "    curr_overlap_df = pd.concat([curr_overlap_df,\n",
    "                                 pd.DataFrame({'file_name': [curr_file], 'feature_type': ['parker_tumor'],\n",
    "                                               'num_feat_genesig': [len(parker_tumor_overlap)],\n",
    "                                               'num_feat_featsel': [len(tumor_genes)],\n",
    "                                               'perc_genesig': [len(parker_tumor_overlap) / len(tumor_genes)],\n",
    "                                               'overlap_genes': [parker_tumor_overlap['gene'].values],\n",
    "                                               })])\n",
    "\n",
    "    curr_shap_mean = (curr_shap_mean.merge(parker_tumor_overlap,\n",
    "                                           on = 'gene', how = 'left'))\n",
    "    gene_overlap_stats = pd.concat([gene_overlap_stats, curr_overlap_df])\n",
    "    print()\n",
    "\n",
    "#gene_overlap_stats.to_csv('gene_overlap_stats.csv', index = False)"
   ]
  }
 ],
 "metadata": {
  "colab": {
   "authorship_tag": "ABX9TyN4KY3riGUaC7i8d5+bY9fq",
   "provenance": []
  },
  "kernelspec": {
   "display_name": "Python 3 (ipykernel)",
   "language": "python",
   "name": "python3"
  },
  "language_info": {
   "codemirror_mode": {
    "name": "ipython",
    "version": 3
   },
   "file_extension": ".py",
   "mimetype": "text/x-python",
   "name": "python",
   "nbconvert_exporter": "python",
   "pygments_lexer": "ipython3",
   "version": "3.11.0"
  }
 },
 "nbformat": 4,
 "nbformat_minor": 4
}
