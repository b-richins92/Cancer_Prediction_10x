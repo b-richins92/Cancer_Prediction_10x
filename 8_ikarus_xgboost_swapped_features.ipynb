{
 "cells": [
  {
   "cell_type": "markdown",
   "id": "b7ece8c2-9830-4f00-8b2d-3a2f8b90c8d9",
   "metadata": {},
   "source": [
    "# Notebook 8: Test ikarus and XGBoost models with swapped features\n",
    "Question: Does swapping feature sets affect performance for ikarus and XGBoost models?\n",
    "\n",
    "Tested the following:\n",
    "* ikarus model using top 200 DGEs for our model\n",
    "* XGBoost model using ikarus gene signatures (identified from training set)\n",
    "\n",
    "Code uses 6_ikarus.ipynb and [ikarus tutorial](https://github.com/BIMSBbioinfo/ikarus/blob/master/tutorials/tutorial.ipynb) as references"
   ]
  },
  {
   "cell_type": "code",
   "execution_count": 1,
   "id": "7c7340f6-1f49-4e16-bd6c-0c8a93fcccd1",
   "metadata": {},
   "outputs": [
    {
     "name": "stderr",
     "output_type": "stream",
     "text": [
      "/home/gylam/.local/lib/python3.11/site-packages/tqdm/auto.py:21: TqdmWarning: IProgress not found. Please update jupyter and ipywidgets. See https://ipywidgets.readthedocs.io/en/stable/user_install.html\n",
      "  from .autonotebook import tqdm as notebook_tqdm\n"
     ]
    }
   ],
   "source": [
    "import main_functions as mf\n",
    "from pathlib import Path\n",
    "import os\n",
    "import pandas as pd\n",
    "import numpy as np\n",
    "import anndata\n",
    "import scanpy as sc\n",
    "from ikarus import classifier, gene_list, utils, data\n",
    "import upsetplot\n",
    "from sklearn.metrics import accuracy_score, confusion_matrix, ConfusionMatrixDisplay, f1_score, recall_score, precision_score\n",
    "from sklearn.linear_model import LogisticRegression\n",
    "from sklearn.model_selection import StratifiedGroupKFold\n",
    "from xgboost import XGBClassifier\n",
    "import matplotlib.pyplot as plt\n",
    "import seaborn as sns\n",
    "import textwrap"
   ]
  },
  {
   "cell_type": "code",
   "execution_count": 2,
   "id": "113b6b99-af51-43c8-a9fd-4b704c9e73fe",
   "metadata": {},
   "outputs": [
    {
     "name": "stdin",
     "output_type": "stream",
     "text": [
      "Please enter the path of the folder containing datasets:  ../data/\n"
     ]
    }
   ],
   "source": [
    "# Set up working directory\n",
    "folder_path = input('Please enter the path of the folder containing datasets: ')\n",
    "os.chdir(folder_path)"
   ]
  },
  {
   "cell_type": "code",
   "execution_count": 3,
   "id": "69584ee3-9f04-4a65-a5e4-045398bfd081",
   "metadata": {},
   "outputs": [],
   "source": [
    "# Constants and global variables\n",
    "RANDOM_STATE = 42\n",
    "metrics_df_models = pd.DataFrame()\n",
    "baseline_ikarus_path = '../out/train_ikarus_baseline/'\n",
    "dge_ikarus_path = '../out/train_ikarus_dge/'"
   ]
  },
  {
   "cell_type": "code",
   "execution_count": 4,
   "id": "e4515d76-21db-4bb7-8c03-983959fe79e2",
   "metadata": {
    "scrolled": true
   },
   "outputs": [],
   "source": [
    "# Load training and two test sets\n",
    "adatas = {}\n",
    "\n",
    "train_adata = sc.read_h5ad('train.h5ad')\n",
    "train_adata.obs['CellType'] = np.where(train_adata.obs.orig_cancer_label == 1, 'Cancer', 'Other')\n",
    "train_adata.var['gene_symbol'] = train_adata.var.gene_ids\n",
    "adatas['train'] = train_adata\n",
    "\n",
    "# Load in test sets 1 and 2\n",
    "test1_adata = sc.read_h5ad('test1.h5ad')\n",
    "test1_adata.obs['CellType'] = np.where(test1_adata.obs.orig_cancer_label == 1, 'Cancer', 'Other')\n",
    "test1_adata.var['gene_symbol'] = test1_adata.var.gene_ids\n",
    "\n",
    "test2_adata = sc.read_h5ad('test2.h5ad')\n",
    "test2_adata.obs['CellType'] = np.where(test2_adata.obs.orig_cancer_label == 1, 'Cancer', 'Other')\n",
    "test2_adata.var['gene_symbol'] = test2_adata.var.gene_ids\n",
    "\n",
    "adatas['test1'] = test1_adata\n",
    "adatas['test2'] = test2_adata"
   ]
  },
  {
   "cell_type": "code",
   "execution_count": 5,
   "id": "217a6b91-7937-40a2-995f-606967718148",
   "metadata": {
    "scrolled": true
   },
   "outputs": [],
   "source": [
    "# If ikarus gene signature does not exist, create\n",
    "signatures_path_ikarus = Path(baseline_ikarus_path + 'signatures.gmt')\n",
    "\n",
    "if not signatures_path_ikarus.is_file():\n",
    "\n",
    "    # Set up gene lists fo cancer and normal\n",
    "    dfs = [train_adata]\n",
    "    names = ['train']\n",
    "    obs_names = ['CellType']\n",
    "    label_upregs = ['Cancer']\n",
    "    label_downregs = ['Other']\n",
    "    \n",
    "    signatures_cancer = gene_list.create_all(\n",
    "        label_upregs_list=label_upregs,\n",
    "        label_downregs_list=label_downregs,\n",
    "        adatas_dict=adatas,\n",
    "        names_list=names,\n",
    "        obs_names_list=obs_names,\n",
    "        integration_fun=utils.intersection_fun,\n",
    "        top_x=300\n",
    "    )\n",
    "    \n",
    "    signatures_norm = gene_list.create_all(\n",
    "        label_upregs_list=label_downregs,\n",
    "        label_downregs_list=label_upregs,\n",
    "        adatas_dict=adatas,\n",
    "        names_list=names,\n",
    "        obs_names_list=obs_names,\n",
    "        integration_fun=utils.intersection_fun,\n",
    "        top_x=300\n",
    "    )\n",
    "    \n",
    "    # Get lists of tumor and normal genes from ikarus signature (generated with Qian dataset)\n",
    "    contents_cancer = upsetplot.from_contents(signatures_cancer)\n",
    "    contents_norm = upsetplot.from_contents(signatures_norm)\n",
    "    \n",
    "    tumor_genes = contents_cancer['id'].values.ravel().tolist()\n",
    "    normal_genes = contents_norm['id'].values.ravel().tolist()\n",
    "    print(f'num tumor_genes: {len(tumor_genes)}, num normal_genes: {len(normal_genes)}')\n",
    "    overlap = list(set(tumor_genes).union(normal_genes))\n",
    "    print(len(overlap)) # Equals sum of tumor_genes and normal_genes, so no overlap\n",
    "    \n",
    "    # Save signatures as .gmt file\n",
    "    gene_list.save_gmt([normal_genes, tumor_genes], ['Normal', 'Tumor'],\n",
    "                       out_dir=baseline_ikarus_path)"
   ]
  },
  {
   "cell_type": "code",
   "execution_count": 6,
   "id": "7870f3b4-5919-419d-8024-73f773518102",
   "metadata": {
    "scrolled": true
   },
   "outputs": [],
   "source": [
    "# If gene signature of DGEs doesn't exist, create signature\n",
    "signatures_path_dge = Path(dge_ikarus_path + 'signatures.gmt')\n",
    "\n",
    "if not Path(signatures_path_dge).is_file():\n",
    "    # Get top 200 DGEs from training data - 2 lists\n",
    "    Path(dge_ikarus_path).mkdir(exist_ok=True)\n",
    "    cancer_dge, norm_dge = mf.get_diff_exp_genes(train_adata)\n",
    "    cancer_dge_top100 = cancer_dge[:100]\n",
    "    norm_dge_top100 = norm_dge[:100]\n",
    "    model_dge_top200  = list(set(cancer_dge_top100).union(norm_dge_top100))\n",
    "\n",
    "    # Remove overlapping genes\n",
    "    normal_genes_final = list(set(norm_dge_top100) - set(model_dge_top200))\n",
    "    \n",
    "    # Save DGE signature as .gmt file.\n",
    "    gene_list.save_gmt([normal_genes_final, cancer_dge_top100],\n",
    "                       ['Normal', 'Tumor'],\n",
    "                       out_dir=dge_ikarus_path)"
   ]
  },
  {
   "cell_type": "code",
   "execution_count": 7,
   "id": "71ec67da-dff7-4977-9c4f-920f98b0fe9f",
   "metadata": {
    "scrolled": true
   },
   "outputs": [
    {
     "name": "stdout",
     "output_type": "stream",
     "text": [
      "Less than 80% of signature genes are available in data set. A temporary signature is stored where non-overlapping genes are removed. It is proceeded with the temporary signature.\n",
      "Less than 80% of signature genes are available in data set. A temporary signature is stored where non-overlapping genes are removed. It is proceeded with the temporary signature.\n"
     ]
    },
    {
     "name": "stderr",
     "output_type": "stream",
     "text": [
      "/home/gylam/.local/lib/python3.11/site-packages/scanpy/preprocessing/_highly_variable_genes.py:696: ImplicitModificationWarning: Trying to modify attribute `._uns` of view, initializing view as actual.\n",
      "  adata.uns[\"hvg\"] = {\"flavor\": flavor}\n",
      "/home/gylam/.local/lib/python3.11/site-packages/scanpy/preprocessing/_pca.py:374: FutureWarning: Argument `use_highly_variable` is deprecated, consider using the mask argument. Use_highly_variable=True can be called through mask_var=\"highly_variable\". Use_highly_variable=False can be called through mask_var=None\n",
      "  warn(msg, FutureWarning)\n"
     ]
    },
    {
     "name": "stdout",
     "output_type": "stream",
     "text": [
      "converged at iteration step: 30 with 0.0010 < 0.001\n",
      "Less than 80% of signature genes are available in data set. A temporary signature is stored where non-overlapping genes are removed. It is proceeded with the temporary signature.\n",
      "Less than 80% of signature genes are available in data set. A temporary signature is stored where non-overlapping genes are removed. It is proceeded with the temporary signature.\n"
     ]
    },
    {
     "name": "stderr",
     "output_type": "stream",
     "text": [
      "/home/gylam/.local/lib/python3.11/site-packages/scanpy/preprocessing/_highly_variable_genes.py:696: ImplicitModificationWarning: Trying to modify attribute `._uns` of view, initializing view as actual.\n",
      "  adata.uns[\"hvg\"] = {\"flavor\": flavor}\n",
      "/home/gylam/.local/lib/python3.11/site-packages/scanpy/preprocessing/_pca.py:374: FutureWarning: Argument `use_highly_variable` is deprecated, consider using the mask argument. Use_highly_variable=True can be called through mask_var=\"highly_variable\". Use_highly_variable=False can be called through mask_var=None\n",
      "  warn(msg, FutureWarning)\n"
     ]
    },
    {
     "name": "stdout",
     "output_type": "stream",
     "text": [
      "converged at iteration step: 45 with 0.0009 < 0.001\n"
     ]
    }
   ],
   "source": [
    "# Run baseline ikarus - confirms similar results as 6_ikarus.ipynb\n",
    "# Train with training set, using features from ikarus approach\n",
    "\n",
    "model_qian_ikarus = classifier.Ikarus(signatures_gmt=signatures_path_ikarus,\n",
    "                                      out_dir=baseline_ikarus_path,\n",
    "                                      adapt_signatures = True)\n",
    "\n",
    "train_adata_list = [adatas['train']]\n",
    "train_names_list = ['train']\n",
    "obs_columns_list = ['orig_cancer_label']\n",
    "\n",
    "model_qian_ikarus.fit(train_adata_list, train_names_list, obs_columns_list, save=True)\n",
    "\n",
    "# Run on test sets 1 and 2\n",
    "\n",
    "ikarus_baseline_test1 = model_qian_ikarus.predict(test1_adata, 'test1', save=True)\n",
    "y_test1 = test1_adata.obs.orig_cancer_label\n",
    "y_pred1 = np.where(ikarus_baseline_test1 == 'Tumor', 1, 0)\n",
    "ikarus_baseline_metrics1, ikarus_baseline_cm1 = mf.calc_eval_metrics(\n",
    "                                                    y_test1, y_pred1, 'ikarus', 'ikarus', \n",
    "                                                    'yes', 'test1')\n",
    "\n",
    "ikarus_baseline_test2 = model_qian_ikarus.predict(test2_adata, 'test2', save=True)\n",
    "y_test2 = test2_adata.obs.orig_cancer_label\n",
    "y_pred2 = np.where(ikarus_baseline_test2 == 'Tumor', 1, 0)\n",
    "ikarus_baseline_metrics2, ikarus_baseline_cm2 = mf.calc_eval_metrics(\n",
    "                                                    y_test2, y_pred2,'ikarus', 'ikarus', \n",
    "                                                    'yes', 'test2')\n",
    "\n",
    "# Save metrics to metrics_df_models\n",
    "metrics_df_models = pd.concat([metrics_df_models, ikarus_baseline_metrics1])\n",
    "metrics_df_models = pd.concat([metrics_df_models, ikarus_baseline_metrics2])"
   ]
  },
  {
   "cell_type": "code",
   "execution_count": 8,
   "id": "8ae15987-cc25-4f2d-9c8d-96da6a871e39",
   "metadata": {
    "scrolled": true
   },
   "outputs": [
    {
     "name": "stderr",
     "output_type": "stream",
     "text": [
      "/home/gylam/.local/lib/python3.11/site-packages/scanpy/preprocessing/_highly_variable_genes.py:696: ImplicitModificationWarning: Trying to modify attribute `._uns` of view, initializing view as actual.\n",
      "  adata.uns[\"hvg\"] = {\"flavor\": flavor}\n",
      "/home/gylam/.local/lib/python3.11/site-packages/scanpy/preprocessing/_pca.py:374: FutureWarning: Argument `use_highly_variable` is deprecated, consider using the mask argument. Use_highly_variable=True can be called through mask_var=\"highly_variable\". Use_highly_variable=False can be called through mask_var=None\n",
      "  warn(msg, FutureWarning)\n"
     ]
    },
    {
     "name": "stdout",
     "output_type": "stream",
     "text": [
      "converged at iteration step: 7 with 0.0008 < 0.001\n"
     ]
    },
    {
     "name": "stderr",
     "output_type": "stream",
     "text": [
      "/home/gylam/.local/lib/python3.11/site-packages/scanpy/preprocessing/_highly_variable_genes.py:696: ImplicitModificationWarning: Trying to modify attribute `._uns` of view, initializing view as actual.\n",
      "  adata.uns[\"hvg\"] = {\"flavor\": flavor}\n",
      "/home/gylam/.local/lib/python3.11/site-packages/scanpy/preprocessing/_pca.py:374: FutureWarning: Argument `use_highly_variable` is deprecated, consider using the mask argument. Use_highly_variable=True can be called through mask_var=\"highly_variable\". Use_highly_variable=False can be called through mask_var=None\n",
      "  warn(msg, FutureWarning)\n"
     ]
    },
    {
     "name": "stdout",
     "output_type": "stream",
     "text": [
      "converged at iteration step: 8 with 0.0004 < 0.001\n"
     ]
    }
   ],
   "source": [
    "# Run ikarus using our model's DGE gene signature\n",
    "model_qian_dge = classifier.Ikarus(signatures_gmt=signatures_path_dge,\n",
    "                                   out_dir=dge_ikarus_path, adapt_signatures = True)\n",
    "\n",
    "model_qian_dge.fit(train_adata_list, train_names_list, obs_columns_list, save=True)\n",
    "\n",
    "# Run on test sets 1 and 2 - compare with Bryan's results\n",
    "\n",
    "model_val_test1 = model_qian_dge.predict(test1_adata, 'test1', save=True)\n",
    "y_test1 = test1_adata.obs.orig_cancer_label\n",
    "y_pred1 = np.where(model_val_test1 == 'Tumor', 1, 0)\n",
    "ikarus_dge_metrics1, ikarus_dge_cm1 = mf.calc_eval_metrics(y_test1, y_pred1,\n",
    "                                                        'ikarus', 'dge', \n",
    "                                                        'yes', 'test1')\n",
    "\n",
    "model_val_test2 = model_qian_dge.predict(test2_adata, 'test2', save=True)\n",
    "y_test2 = test2_adata.obs.orig_cancer_label\n",
    "y_pred2 = np.where(model_val_test2 == 'Tumor', 1, 0)\n",
    "ikarus_dge_metrics2, ikarus_dge_cm2 = mf.calc_eval_metrics(y_test2, y_pred2,\n",
    "                                                        'ikarus', 'dge', \n",
    "                                                        'yes', 'test2')\n",
    "\n",
    "metrics_df_models = pd.concat([metrics_df_models, ikarus_dge_metrics1])\n",
    "metrics_df_models = pd.concat([metrics_df_models, ikarus_dge_metrics2])"
   ]
  },
  {
   "cell_type": "markdown",
   "id": "0c3b1cbc-e214-443a-8d75-e1f044251360",
   "metadata": {},
   "source": [
    "# Test our model using ikarus gene signature (using training set)"
   ]
  },
  {
   "cell_type": "code",
   "execution_count": 9,
   "id": "6b3d9f0e-3f20-4aef-91db-a5d6884adb83",
   "metadata": {},
   "outputs": [],
   "source": [
    "# Get genes from ikarus signature\n",
    "ikarus_genes = mf.get_feat_from_gene_sig(signatures_path_ikarus)\n",
    "\n",
    "# Get genes from DGE signature\n",
    "dge_genes = mf.get_feat_from_gene_sig(signatures_path_dge)"
   ]
  },
  {
   "cell_type": "code",
   "execution_count": 10,
   "id": "9d58d5df-b27c-4c48-b392-19cbf82e1ebb",
   "metadata": {},
   "outputs": [],
   "source": [
    "# Concatenate all datasets to create a dataframe with all the same features (for training and testing purposes)\n",
    "X1, X2, X3 = adatas['train'].to_df(), adatas['test1'].to_df(), adatas['test2'].to_df()\n",
    "concat = pd.concat([X1,X2,X3]).fillna(0)\n",
    "\n",
    "# Extracting relevant columns from concatenated dataset\n",
    "X1 = concat.iloc[0:len(X1)]\n",
    "X2 = concat.iloc[len(X1):len(X1)+len(X2)]\n",
    "X3 = concat.iloc[len(X1)+len(X2):len(X1)+len(X2)+len(X3)]\n",
    "\n",
    "y1 = adatas['train'].obs.orig_cancer_label\n",
    "y2 = adatas['test1'].obs.orig_cancer_label\n",
    "y3 = adatas['test2'].obs.orig_cancer_label\n",
    "\n",
    "groups = adatas['train'].obs.PatientNumber\n",
    "group_kfold = StratifiedGroupKFold(n_splits=5) #Using stratified K-fold to make sure labels are stratified\n",
    "cv = group_kfold.get_n_splits(X1,y1, groups)\n",
    "\n",
    "# Creating predictions dataframes to export later\n",
    "test1_pred = pd.DataFrame()\n",
    "test2_pred = pd.DataFrame()"
   ]
  },
  {
   "cell_type": "code",
   "execution_count": 11,
   "id": "31753af0-a752-402f-ab0e-35962763aadc",
   "metadata": {},
   "outputs": [
    {
     "name": "stdout",
     "output_type": "stream",
     "text": [
      "# cells in training: 33043, # cells in test: 10359\n",
      "[[3611  359]\n",
      " [  40 6349]]\n"
     ]
    },
    {
     "data": {
      "text/html": [
       "<div>\n",
       "<style scoped>\n",
       "    .dataframe tbody tr th:only-of-type {\n",
       "        vertical-align: middle;\n",
       "    }\n",
       "\n",
       "    .dataframe tbody tr th {\n",
       "        vertical-align: top;\n",
       "    }\n",
       "\n",
       "    .dataframe thead th {\n",
       "        text-align: right;\n",
       "    }\n",
       "</style>\n",
       "<table border=\"1\" class=\"dataframe\">\n",
       "  <thead>\n",
       "    <tr style=\"text-align: right;\">\n",
       "      <th></th>\n",
       "      <th>recall</th>\n",
       "      <th>precision</th>\n",
       "      <th>f1</th>\n",
       "      <th>accuracy</th>\n",
       "    </tr>\n",
       "  </thead>\n",
       "  <tbody>\n",
       "    <tr>\n",
       "      <th>0</th>\n",
       "      <td>0.994</td>\n",
       "      <td>0.946</td>\n",
       "      <td>0.97</td>\n",
       "      <td>0.961</td>\n",
       "    </tr>\n",
       "  </tbody>\n",
       "</table>\n",
       "</div>"
      ],
      "text/plain": [
       "   recall  precision    f1  accuracy\n",
       "0   0.994      0.946  0.97     0.961"
      ]
     },
     "metadata": {},
     "output_type": "display_data"
    },
    {
     "name": "stdout",
     "output_type": "stream",
     "text": [
      "# cells in training: 33043, # cells in test: 9856\n",
      "[[7625  458]\n",
      " [  16 1757]]\n"
     ]
    },
    {
     "data": {
      "text/html": [
       "<div>\n",
       "<style scoped>\n",
       "    .dataframe tbody tr th:only-of-type {\n",
       "        vertical-align: middle;\n",
       "    }\n",
       "\n",
       "    .dataframe tbody tr th {\n",
       "        vertical-align: top;\n",
       "    }\n",
       "\n",
       "    .dataframe thead th {\n",
       "        text-align: right;\n",
       "    }\n",
       "</style>\n",
       "<table border=\"1\" class=\"dataframe\">\n",
       "  <thead>\n",
       "    <tr style=\"text-align: right;\">\n",
       "      <th></th>\n",
       "      <th>recall</th>\n",
       "      <th>precision</th>\n",
       "      <th>f1</th>\n",
       "      <th>accuracy</th>\n",
       "    </tr>\n",
       "  </thead>\n",
       "  <tbody>\n",
       "    <tr>\n",
       "      <th>0</th>\n",
       "      <td>0.991</td>\n",
       "      <td>0.793</td>\n",
       "      <td>0.881</td>\n",
       "      <td>0.952</td>\n",
       "    </tr>\n",
       "  </tbody>\n",
       "</table>\n",
       "</div>"
      ],
      "text/plain": [
       "   recall  precision     f1  accuracy\n",
       "0   0.991      0.793  0.881     0.952"
      ]
     },
     "metadata": {},
     "output_type": "display_data"
    }
   ],
   "source": [
    "# Run XGBoost with DGE features\n",
    "clf_dge = XGBClassifier(eta = 0.3, max_depth = 3, n_estimators = 200, random_state = RANDOM_STATE) \n",
    "\n",
    "xgboost_dge_metrics1, xgboost_dge_cm1 = mf.train_test_model(clf_dge, X1, y1, X2, y2, dge_genes)\n",
    "xgboost_dge_metrics1['model'] = 'xgboost'\n",
    "xgboost_dge_metrics1['feat_set'] = 'dge'\n",
    "xgboost_dge_metrics1['network_prop'] = 'no'\n",
    "xgboost_dge_metrics1['dataset'] = 'test1'\n",
    "\n",
    "xgboost_dge_metrics2, xgboost_dge_cm2 = mf.train_test_model(clf_dge, X1, y1, X3, y3, dge_genes)\n",
    "xgboost_dge_metrics2['model'] = 'xgboost'\n",
    "xgboost_dge_metrics2['feat_set'] = 'dge'\n",
    "xgboost_dge_metrics2['network_prop'] = 'no'\n",
    "xgboost_dge_metrics2['dataset'] = 'test2'\n",
    "\n",
    "metrics_df_models = pd.concat([metrics_df_models, xgboost_dge_metrics1])\n",
    "metrics_df_models = pd.concat([metrics_df_models, xgboost_dge_metrics2])"
   ]
  },
  {
   "cell_type": "code",
   "execution_count": 12,
   "id": "c3f4d95f-9aad-49bb-8f07-e0cfa54abf42",
   "metadata": {
    "scrolled": true
   },
   "outputs": [
    {
     "name": "stdout",
     "output_type": "stream",
     "text": [
      "# cells in training: 33043, # cells in test: 10359\n",
      "[[3533  437]\n",
      " [ 102 6287]]\n"
     ]
    },
    {
     "data": {
      "text/html": [
       "<div>\n",
       "<style scoped>\n",
       "    .dataframe tbody tr th:only-of-type {\n",
       "        vertical-align: middle;\n",
       "    }\n",
       "\n",
       "    .dataframe tbody tr th {\n",
       "        vertical-align: top;\n",
       "    }\n",
       "\n",
       "    .dataframe thead th {\n",
       "        text-align: right;\n",
       "    }\n",
       "</style>\n",
       "<table border=\"1\" class=\"dataframe\">\n",
       "  <thead>\n",
       "    <tr style=\"text-align: right;\">\n",
       "      <th></th>\n",
       "      <th>recall</th>\n",
       "      <th>precision</th>\n",
       "      <th>f1</th>\n",
       "      <th>accuracy</th>\n",
       "    </tr>\n",
       "  </thead>\n",
       "  <tbody>\n",
       "    <tr>\n",
       "      <th>0</th>\n",
       "      <td>0.984</td>\n",
       "      <td>0.935</td>\n",
       "      <td>0.959</td>\n",
       "      <td>0.948</td>\n",
       "    </tr>\n",
       "  </tbody>\n",
       "</table>\n",
       "</div>"
      ],
      "text/plain": [
       "   recall  precision     f1  accuracy\n",
       "0   0.984      0.935  0.959     0.948"
      ]
     },
     "metadata": {},
     "output_type": "display_data"
    },
    {
     "name": "stdout",
     "output_type": "stream",
     "text": [
      "# cells in training: 33043, # cells in test: 9856\n",
      "[[7766  317]\n",
      " [  20 1753]]\n"
     ]
    },
    {
     "data": {
      "text/html": [
       "<div>\n",
       "<style scoped>\n",
       "    .dataframe tbody tr th:only-of-type {\n",
       "        vertical-align: middle;\n",
       "    }\n",
       "\n",
       "    .dataframe tbody tr th {\n",
       "        vertical-align: top;\n",
       "    }\n",
       "\n",
       "    .dataframe thead th {\n",
       "        text-align: right;\n",
       "    }\n",
       "</style>\n",
       "<table border=\"1\" class=\"dataframe\">\n",
       "  <thead>\n",
       "    <tr style=\"text-align: right;\">\n",
       "      <th></th>\n",
       "      <th>recall</th>\n",
       "      <th>precision</th>\n",
       "      <th>f1</th>\n",
       "      <th>accuracy</th>\n",
       "    </tr>\n",
       "  </thead>\n",
       "  <tbody>\n",
       "    <tr>\n",
       "      <th>0</th>\n",
       "      <td>0.989</td>\n",
       "      <td>0.847</td>\n",
       "      <td>0.912</td>\n",
       "      <td>0.966</td>\n",
       "    </tr>\n",
       "  </tbody>\n",
       "</table>\n",
       "</div>"
      ],
      "text/plain": [
       "   recall  precision     f1  accuracy\n",
       "0   0.989      0.847  0.912     0.966"
      ]
     },
     "metadata": {},
     "output_type": "display_data"
    }
   ],
   "source": [
    "# Run XGBoost model using DGE hyperparameters on the two test sets\n",
    "xgboost_ikarus_metrics1, xgboost_ikarus_cm1 = mf.train_test_model(clf_dge, X1, y1, X2, y2, ikarus_genes)\n",
    "xgboost_ikarus_metrics1['model'] = 'xgboost'\n",
    "xgboost_ikarus_metrics1['feat_set'] = 'ikarus'\n",
    "xgboost_ikarus_metrics1['network_prop'] = 'no'\n",
    "xgboost_ikarus_metrics1['dataset'] = 'test1'\n",
    "\n",
    "xgboost_ikarus_metrics2, xgboost_ikarus_cm2 = mf.train_test_model(clf_dge, X1, y1, X3, y3, ikarus_genes)\n",
    "xgboost_ikarus_metrics2['model'] = 'xgboost'\n",
    "xgboost_ikarus_metrics2['feat_set'] = 'ikarus'\n",
    "xgboost_ikarus_metrics2['network_prop'] = 'no'\n",
    "xgboost_ikarus_metrics2['dataset'] = 'test2'\n",
    "\n",
    "metrics_df_models = pd.concat([metrics_df_models, xgboost_ikarus_metrics1])\n",
    "metrics_df_models = pd.concat([metrics_df_models, xgboost_ikarus_metrics2])\n"
   ]
  },
  {
   "cell_type": "code",
   "execution_count": 13,
   "id": "49f85f3c-526f-4f69-9f77-479dea4bf231",
   "metadata": {},
   "outputs": [],
   "source": [
    "# Get metrics without network propagation for ikarus\n",
    "\n",
    "# Baseline ikarus\n",
    "y_test1 = test1_adata.obs.orig_cancer_label\n",
    "y_pred1 = pd.read_csv(baseline_ikarus_path + 'test1/prediction.csv', index_col = 0)['core_pred']\n",
    "ikarus_baseline_metrics1, ikarus_baseline_cm1 = mf.calc_eval_metrics(\n",
    "                                                    y_test1, y_pred1, 'ikarus',\n",
    "                                                    'ikarus', 'no', 'test1')\n",
    "\n",
    "y_test2 = test2_adata.obs.orig_cancer_label\n",
    "y_pred2 = pd.read_csv(baseline_ikarus_path + 'test2/prediction.csv', index_col = 0)['core_pred']\n",
    "ikarus_baseline_metrics2, ikarus_baseline_cm2 = mf.calc_eval_metrics(\n",
    "                                                    y_test2, y_pred2, 'ikarus',\n",
    "                                                    'ikarus', 'no', 'test2')\n",
    "metrics_df_models = pd.concat([metrics_df_models, ikarus_baseline_metrics1])\n",
    "metrics_df_models = pd.concat([metrics_df_models, ikarus_baseline_metrics2])\n",
    "\n",
    "# ikarus with DGE features\n",
    "y_pred1 = pd.read_csv(dge_ikarus_path + 'test1/prediction.csv', index_col = 0)['core_pred']\n",
    "ikarus_dge_metrics1, ikarus_dge_cm1 = mf.calc_eval_metrics(\n",
    "                                                    y_test1, y_pred1, 'ikarus',\n",
    "                                                    'dge', 'no', 'test1')\n",
    "\n",
    "y_pred2 = pd.read_csv(dge_ikarus_path + 'test2/prediction.csv', index_col = 0)['core_pred']\n",
    "ikarus_dge_metrics2, ikarus_dge_cm2 = mf.calc_eval_metrics(\n",
    "                                                    y_test1, y_pred1, 'ikarus',\n",
    "                                                    'dge', 'no', 'test2')\n",
    "\n",
    "metrics_df_models = pd.concat([metrics_df_models, ikarus_dge_metrics1])\n",
    "metrics_df_models = pd.concat([metrics_df_models, ikarus_dge_metrics2])"
   ]
  },
  {
   "cell_type": "code",
   "execution_count": 14,
   "id": "9762599f-09c0-4b33-b400-00aa032c3179",
   "metadata": {},
   "outputs": [
    {
     "data": {
      "text/html": [
       "<div>\n",
       "<style scoped>\n",
       "    .dataframe tbody tr th:only-of-type {\n",
       "        vertical-align: middle;\n",
       "    }\n",
       "\n",
       "    .dataframe tbody tr th {\n",
       "        vertical-align: top;\n",
       "    }\n",
       "\n",
       "    .dataframe thead th {\n",
       "        text-align: right;\n",
       "    }\n",
       "</style>\n",
       "<table border=\"1\" class=\"dataframe\">\n",
       "  <thead>\n",
       "    <tr style=\"text-align: right;\">\n",
       "      <th></th>\n",
       "      <th>recall</th>\n",
       "      <th>precision</th>\n",
       "      <th>f1</th>\n",
       "      <th>accuracy</th>\n",
       "      <th>model</th>\n",
       "      <th>feat_set</th>\n",
       "      <th>network_prop</th>\n",
       "      <th>dataset</th>\n",
       "    </tr>\n",
       "  </thead>\n",
       "  <tbody>\n",
       "    <tr>\n",
       "      <th>0</th>\n",
       "      <td>0.996</td>\n",
       "      <td>0.709</td>\n",
       "      <td>0.828</td>\n",
       "      <td>0.745</td>\n",
       "      <td>ikarus</td>\n",
       "      <td>ikarus</td>\n",
       "      <td>yes</td>\n",
       "      <td>test1</td>\n",
       "    </tr>\n",
       "    <tr>\n",
       "      <th>1</th>\n",
       "      <td>0.997</td>\n",
       "      <td>0.408</td>\n",
       "      <td>0.579</td>\n",
       "      <td>0.739</td>\n",
       "      <td>ikarus</td>\n",
       "      <td>ikarus</td>\n",
       "      <td>yes</td>\n",
       "      <td>test2</td>\n",
       "    </tr>\n",
       "    <tr>\n",
       "      <th>2</th>\n",
       "      <td>0.997</td>\n",
       "      <td>0.958</td>\n",
       "      <td>0.977</td>\n",
       "      <td>0.971</td>\n",
       "      <td>ikarus</td>\n",
       "      <td>dge</td>\n",
       "      <td>yes</td>\n",
       "      <td>test1</td>\n",
       "    </tr>\n",
       "    <tr>\n",
       "      <th>3</th>\n",
       "      <td>0.984</td>\n",
       "      <td>1.000</td>\n",
       "      <td>0.992</td>\n",
       "      <td>0.997</td>\n",
       "      <td>ikarus</td>\n",
       "      <td>dge</td>\n",
       "      <td>yes</td>\n",
       "      <td>test2</td>\n",
       "    </tr>\n",
       "    <tr>\n",
       "      <th>4</th>\n",
       "      <td>0.994</td>\n",
       "      <td>0.946</td>\n",
       "      <td>0.970</td>\n",
       "      <td>0.961</td>\n",
       "      <td>xgboost</td>\n",
       "      <td>dge</td>\n",
       "      <td>no</td>\n",
       "      <td>test1</td>\n",
       "    </tr>\n",
       "    <tr>\n",
       "      <th>5</th>\n",
       "      <td>0.991</td>\n",
       "      <td>0.793</td>\n",
       "      <td>0.881</td>\n",
       "      <td>0.952</td>\n",
       "      <td>xgboost</td>\n",
       "      <td>dge</td>\n",
       "      <td>no</td>\n",
       "      <td>test2</td>\n",
       "    </tr>\n",
       "    <tr>\n",
       "      <th>6</th>\n",
       "      <td>0.984</td>\n",
       "      <td>0.935</td>\n",
       "      <td>0.959</td>\n",
       "      <td>0.948</td>\n",
       "      <td>xgboost</td>\n",
       "      <td>ikarus</td>\n",
       "      <td>no</td>\n",
       "      <td>test1</td>\n",
       "    </tr>\n",
       "    <tr>\n",
       "      <th>7</th>\n",
       "      <td>0.989</td>\n",
       "      <td>0.847</td>\n",
       "      <td>0.912</td>\n",
       "      <td>0.966</td>\n",
       "      <td>xgboost</td>\n",
       "      <td>ikarus</td>\n",
       "      <td>no</td>\n",
       "      <td>test2</td>\n",
       "    </tr>\n",
       "    <tr>\n",
       "      <th>8</th>\n",
       "      <td>0.867</td>\n",
       "      <td>0.919</td>\n",
       "      <td>0.892</td>\n",
       "      <td>0.871</td>\n",
       "      <td>ikarus</td>\n",
       "      <td>ikarus</td>\n",
       "      <td>no</td>\n",
       "      <td>test1</td>\n",
       "    </tr>\n",
       "    <tr>\n",
       "      <th>9</th>\n",
       "      <td>0.944</td>\n",
       "      <td>0.771</td>\n",
       "      <td>0.849</td>\n",
       "      <td>0.940</td>\n",
       "      <td>ikarus</td>\n",
       "      <td>ikarus</td>\n",
       "      <td>no</td>\n",
       "      <td>test2</td>\n",
       "    </tr>\n",
       "    <tr>\n",
       "      <th>10</th>\n",
       "      <td>0.999</td>\n",
       "      <td>0.953</td>\n",
       "      <td>0.975</td>\n",
       "      <td>0.969</td>\n",
       "      <td>ikarus</td>\n",
       "      <td>dge</td>\n",
       "      <td>no</td>\n",
       "      <td>test1</td>\n",
       "    </tr>\n",
       "    <tr>\n",
       "      <th>11</th>\n",
       "      <td>0.999</td>\n",
       "      <td>0.953</td>\n",
       "      <td>0.975</td>\n",
       "      <td>0.969</td>\n",
       "      <td>ikarus</td>\n",
       "      <td>dge</td>\n",
       "      <td>no</td>\n",
       "      <td>test2</td>\n",
       "    </tr>\n",
       "  </tbody>\n",
       "</table>\n",
       "</div>"
      ],
      "text/plain": [
       "    recall  precision     f1  accuracy    model feat_set network_prop dataset\n",
       "0    0.996      0.709  0.828     0.745   ikarus   ikarus          yes   test1\n",
       "1    0.997      0.408  0.579     0.739   ikarus   ikarus          yes   test2\n",
       "2    0.997      0.958  0.977     0.971   ikarus      dge          yes   test1\n",
       "3    0.984      1.000  0.992     0.997   ikarus      dge          yes   test2\n",
       "4    0.994      0.946  0.970     0.961  xgboost      dge           no   test1\n",
       "5    0.991      0.793  0.881     0.952  xgboost      dge           no   test2\n",
       "6    0.984      0.935  0.959     0.948  xgboost   ikarus           no   test1\n",
       "7    0.989      0.847  0.912     0.966  xgboost   ikarus           no   test2\n",
       "8    0.867      0.919  0.892     0.871   ikarus   ikarus           no   test1\n",
       "9    0.944      0.771  0.849     0.940   ikarus   ikarus           no   test2\n",
       "10   0.999      0.953  0.975     0.969   ikarus      dge           no   test1\n",
       "11   0.999      0.953  0.975     0.969   ikarus      dge           no   test2"
      ]
     },
     "execution_count": 14,
     "metadata": {},
     "output_type": "execute_result"
    }
   ],
   "source": [
    "metrics_df_models = metrics_df_models.reset_index().drop(columns = ['index'])\n",
    "metrics_df_models"
   ]
  },
  {
   "cell_type": "code",
   "execution_count": 15,
   "id": "0a660f9a-fd68-47ae-a8e0-e2f2144aeb1c",
   "metadata": {},
   "outputs": [],
   "source": [
    "metrics_df_models.to_csv('SuppTableS4_ikarus_swapped_feat_metrics.csv')"
   ]
  },
  {
   "cell_type": "code",
   "execution_count": 16,
   "id": "f7293169-c875-457a-83ac-c14ac3f53da4",
   "metadata": {},
   "outputs": [],
   "source": [
    "# Create bar graph comparing evaluation metrics\n",
    "metrics_df_models['model_name'] = metrics_df_models['model'] + ' model, \\n' +\\\n",
    "                                  metrics_df_models['feat_set'] + ' features'\n",
    "\n",
    "# Convert dataframe from wide to long\n",
    "metrics_df_tall = metrics_df_models.melt(\n",
    "                        id_vars=['model_name', 'model', 'feat_set', 'network_prop', 'dataset'],\n",
    "                        var_name='metric', value_name='score')"
   ]
  },
  {
   "cell_type": "code",
   "execution_count": 17,
   "id": "b5d9141c-d9f2-4753-aa51-151de59d9fa0",
   "metadata": {},
   "outputs": [
    {
     "ename": "ValueError",
     "evalue": "Could not interpret value `model_name` for `x`. An entry with this name does not appear in `data`.",
     "output_type": "error",
     "traceback": [
      "\u001b[0;31m---------------------------------------------------------------------------\u001b[0m",
      "\u001b[0;31mValueError\u001b[0m                                Traceback (most recent call last)",
      "Cell \u001b[0;32mIn[17], line 4\u001b[0m\n\u001b[1;32m      2\u001b[0m sns\u001b[38;5;241m.\u001b[39mset_theme(style\u001b[38;5;241m=\u001b[39m\u001b[38;5;124m'\u001b[39m\u001b[38;5;124mwhitegrid\u001b[39m\u001b[38;5;124m'\u001b[39m)\n\u001b[1;32m      3\u001b[0m \u001b[38;5;28;01mwith\u001b[39;00m sns\u001b[38;5;241m.\u001b[39mplotting_context(context \u001b[38;5;241m=\u001b[39m \u001b[38;5;124m\"\u001b[39m\u001b[38;5;124mnotebook\u001b[39m\u001b[38;5;124m\"\u001b[39m):\n\u001b[0;32m----> 4\u001b[0m     g1 \u001b[38;5;241m=\u001b[39m \u001b[43msns\u001b[49m\u001b[38;5;241;43m.\u001b[39;49m\u001b[43mcatplot\u001b[49m\u001b[43m(\u001b[49m\n\u001b[1;32m      5\u001b[0m \u001b[43m        \u001b[49m\u001b[43mdata\u001b[49m\u001b[38;5;241;43m=\u001b[39;49m\u001b[43mmetrics_df_tall\u001b[49m\u001b[43m,\u001b[49m\n\u001b[1;32m      6\u001b[0m \u001b[43m        \u001b[49m\u001b[43mx\u001b[49m\u001b[38;5;241;43m=\u001b[39;49m\u001b[38;5;124;43m'\u001b[39;49m\u001b[38;5;124;43mmodel_name\u001b[39;49m\u001b[38;5;124;43m'\u001b[39;49m\u001b[43m,\u001b[49m\u001b[43m \u001b[49m\u001b[43my\u001b[49m\u001b[38;5;241;43m=\u001b[39;49m\u001b[38;5;124;43m'\u001b[39;49m\u001b[38;5;124;43mscore\u001b[39;49m\u001b[38;5;124;43m'\u001b[39;49m\u001b[43m,\u001b[49m\u001b[43m \u001b[49m\u001b[43mrow\u001b[49m\u001b[43m \u001b[49m\u001b[38;5;241;43m=\u001b[39;49m\u001b[43m \u001b[49m\u001b[38;5;124;43m'\u001b[39;49m\u001b[38;5;124;43mdataset\u001b[39;49m\u001b[38;5;124;43m'\u001b[39;49m\u001b[43m,\u001b[49m\u001b[43m \u001b[49m\u001b[43mcol\u001b[49m\u001b[38;5;241;43m=\u001b[39;49m\u001b[38;5;124;43m'\u001b[39;49m\u001b[38;5;124;43mmetric\u001b[39;49m\u001b[38;5;124;43m'\u001b[39;49m\u001b[43m,\u001b[49m\n\u001b[1;32m      7\u001b[0m \u001b[43m        \u001b[49m\u001b[43mhue\u001b[49m\u001b[43m \u001b[49m\u001b[38;5;241;43m=\u001b[39;49m\u001b[43m \u001b[49m\u001b[38;5;124;43m'\u001b[39;49m\u001b[38;5;124;43mnetwork_prop\u001b[39;49m\u001b[38;5;124;43m'\u001b[39;49m\u001b[43m,\u001b[49m\u001b[43m \u001b[49m\u001b[43mkind\u001b[49m\u001b[38;5;241;43m=\u001b[39;49m\u001b[38;5;124;43m'\u001b[39;49m\u001b[38;5;124;43mbar\u001b[39;49m\u001b[38;5;124;43m'\u001b[39;49m\u001b[43m,\u001b[49m\n\u001b[1;32m      8\u001b[0m \u001b[43m        \u001b[49m\u001b[43msharex\u001b[49m\u001b[43m \u001b[49m\u001b[38;5;241;43m=\u001b[39;49m\u001b[43m \u001b[49m\u001b[38;5;28;43;01mFalse\u001b[39;49;00m\u001b[43m,\u001b[49m\u001b[43m \u001b[49m\u001b[43mheight\u001b[49m\u001b[43m \u001b[49m\u001b[38;5;241;43m=\u001b[39;49m\u001b[43m \u001b[49m\u001b[38;5;241;43m6\u001b[39;49m\u001b[43m,\u001b[49m\u001b[43m \u001b[49m\u001b[43maspect\u001b[49m\u001b[43m \u001b[49m\u001b[38;5;241;43m=\u001b[39;49m\u001b[43m \u001b[49m\u001b[38;5;241;43m0.75\u001b[39;49m\u001b[43m,\u001b[49m\n\u001b[1;32m      9\u001b[0m \u001b[43m        \u001b[49m\u001b[43mmargin_titles\u001b[49m\u001b[43m \u001b[49m\u001b[38;5;241;43m=\u001b[39;49m\u001b[43m \u001b[49m\u001b[38;5;28;43;01mTrue\u001b[39;49;00m\n\u001b[1;32m     10\u001b[0m \u001b[43m    \u001b[49m\u001b[43m)\u001b[49m\n\u001b[1;32m     12\u001b[0m g1\u001b[38;5;241m.\u001b[39mset_xticklabels(rotation \u001b[38;5;241m=\u001b[39m \u001b[38;5;241m50\u001b[39m, fontsize \u001b[38;5;241m=\u001b[39m \u001b[38;5;241m18\u001b[39m)\n\u001b[1;32m     13\u001b[0m g1\u001b[38;5;241m.\u001b[39mtick_params(axis\u001b[38;5;241m=\u001b[39m\u001b[38;5;124m'\u001b[39m\u001b[38;5;124my\u001b[39m\u001b[38;5;124m'\u001b[39m, labelsize \u001b[38;5;241m=\u001b[39m \u001b[38;5;241m18\u001b[39m)\n",
      "File \u001b[0;32m~/.local/lib/python3.11/site-packages/seaborn/categorical.py:2782\u001b[0m, in \u001b[0;36mcatplot\u001b[0;34m(data, x, y, hue, row, col, kind, estimator, errorbar, n_boot, seed, units, weights, order, hue_order, row_order, col_order, col_wrap, height, aspect, log_scale, native_scale, formatter, orient, color, palette, hue_norm, legend, legend_out, sharex, sharey, margin_titles, facet_kws, ci, **kwargs)\u001b[0m\n\u001b[1;32m   2779\u001b[0m     \u001b[38;5;28;01melif\u001b[39;00m x \u001b[38;5;129;01mis\u001b[39;00m \u001b[38;5;129;01mnot\u001b[39;00m \u001b[38;5;28;01mNone\u001b[39;00m \u001b[38;5;129;01mand\u001b[39;00m y \u001b[38;5;129;01mis\u001b[39;00m \u001b[38;5;129;01mnot\u001b[39;00m \u001b[38;5;28;01mNone\u001b[39;00m:\n\u001b[1;32m   2780\u001b[0m         \u001b[38;5;28;01mraise\u001b[39;00m \u001b[38;5;167;01mValueError\u001b[39;00m(\u001b[38;5;124m\"\u001b[39m\u001b[38;5;124mCannot pass values for both `x` and `y`.\u001b[39m\u001b[38;5;124m\"\u001b[39m)\n\u001b[0;32m-> 2782\u001b[0m p \u001b[38;5;241m=\u001b[39m \u001b[43mPlotter\u001b[49m\u001b[43m(\u001b[49m\n\u001b[1;32m   2783\u001b[0m \u001b[43m    \u001b[49m\u001b[43mdata\u001b[49m\u001b[38;5;241;43m=\u001b[39;49m\u001b[43mdata\u001b[49m\u001b[43m,\u001b[49m\n\u001b[1;32m   2784\u001b[0m \u001b[43m    \u001b[49m\u001b[43mvariables\u001b[49m\u001b[38;5;241;43m=\u001b[39;49m\u001b[38;5;28;43mdict\u001b[39;49m\u001b[43m(\u001b[49m\n\u001b[1;32m   2785\u001b[0m \u001b[43m        \u001b[49m\u001b[43mx\u001b[49m\u001b[38;5;241;43m=\u001b[39;49m\u001b[43mx\u001b[49m\u001b[43m,\u001b[49m\u001b[43m \u001b[49m\u001b[43my\u001b[49m\u001b[38;5;241;43m=\u001b[39;49m\u001b[43my\u001b[49m\u001b[43m,\u001b[49m\u001b[43m \u001b[49m\u001b[43mhue\u001b[49m\u001b[38;5;241;43m=\u001b[39;49m\u001b[43mhue\u001b[49m\u001b[43m,\u001b[49m\u001b[43m \u001b[49m\u001b[43mrow\u001b[49m\u001b[38;5;241;43m=\u001b[39;49m\u001b[43mrow\u001b[49m\u001b[43m,\u001b[49m\u001b[43m \u001b[49m\u001b[43mcol\u001b[49m\u001b[38;5;241;43m=\u001b[39;49m\u001b[43mcol\u001b[49m\u001b[43m,\u001b[49m\u001b[43m \u001b[49m\u001b[43munits\u001b[49m\u001b[38;5;241;43m=\u001b[39;49m\u001b[43munits\u001b[49m\u001b[43m,\u001b[49m\u001b[43m \u001b[49m\u001b[43mweight\u001b[49m\u001b[38;5;241;43m=\u001b[39;49m\u001b[43mweights\u001b[49m\n\u001b[1;32m   2786\u001b[0m \u001b[43m    \u001b[49m\u001b[43m)\u001b[49m\u001b[43m,\u001b[49m\n\u001b[1;32m   2787\u001b[0m \u001b[43m    \u001b[49m\u001b[43morder\u001b[49m\u001b[38;5;241;43m=\u001b[39;49m\u001b[43morder\u001b[49m\u001b[43m,\u001b[49m\n\u001b[1;32m   2788\u001b[0m \u001b[43m    \u001b[49m\u001b[43morient\u001b[49m\u001b[38;5;241;43m=\u001b[39;49m\u001b[43morient\u001b[49m\u001b[43m,\u001b[49m\n\u001b[1;32m   2789\u001b[0m \u001b[43m    \u001b[49m\u001b[38;5;66;43;03m# Handle special backwards compatibility where pointplot originally\u001b[39;49;00m\n\u001b[1;32m   2790\u001b[0m \u001b[43m    \u001b[49m\u001b[38;5;66;43;03m# did *not* default to multi-colored unless a palette was specified.\u001b[39;49;00m\n\u001b[1;32m   2791\u001b[0m \u001b[43m    \u001b[49m\u001b[43mcolor\u001b[49m\u001b[38;5;241;43m=\u001b[39;49m\u001b[38;5;124;43m\"\u001b[39;49m\u001b[38;5;124;43mC0\u001b[39;49m\u001b[38;5;124;43m\"\u001b[39;49m\u001b[43m \u001b[49m\u001b[38;5;28;43;01mif\u001b[39;49;00m\u001b[43m \u001b[49m\u001b[43mkind\u001b[49m\u001b[43m \u001b[49m\u001b[38;5;241;43m==\u001b[39;49m\u001b[43m \u001b[49m\u001b[38;5;124;43m\"\u001b[39;49m\u001b[38;5;124;43mpoint\u001b[39;49m\u001b[38;5;124;43m\"\u001b[39;49m\u001b[43m \u001b[49m\u001b[38;5;129;43;01mand\u001b[39;49;00m\u001b[43m \u001b[49m\u001b[43mpalette\u001b[49m\u001b[43m \u001b[49m\u001b[38;5;129;43;01mis\u001b[39;49;00m\u001b[43m \u001b[49m\u001b[38;5;28;43;01mNone\u001b[39;49;00m\u001b[43m \u001b[49m\u001b[38;5;129;43;01mand\u001b[39;49;00m\u001b[43m \u001b[49m\u001b[43mcolor\u001b[49m\u001b[43m \u001b[49m\u001b[38;5;129;43;01mis\u001b[39;49;00m\u001b[43m \u001b[49m\u001b[38;5;28;43;01mNone\u001b[39;49;00m\u001b[43m \u001b[49m\u001b[38;5;28;43;01melse\u001b[39;49;00m\u001b[43m \u001b[49m\u001b[43mcolor\u001b[49m\u001b[43m,\u001b[49m\n\u001b[1;32m   2792\u001b[0m \u001b[43m    \u001b[49m\u001b[43mlegend\u001b[49m\u001b[38;5;241;43m=\u001b[39;49m\u001b[43mlegend\u001b[49m\u001b[43m,\u001b[49m\n\u001b[1;32m   2793\u001b[0m \u001b[43m\u001b[49m\u001b[43m)\u001b[49m\n\u001b[1;32m   2795\u001b[0m \u001b[38;5;28;01mfor\u001b[39;00m var \u001b[38;5;129;01min\u001b[39;00m [\u001b[38;5;124m\"\u001b[39m\u001b[38;5;124mrow\u001b[39m\u001b[38;5;124m\"\u001b[39m, \u001b[38;5;124m\"\u001b[39m\u001b[38;5;124mcol\u001b[39m\u001b[38;5;124m\"\u001b[39m]:\n\u001b[1;32m   2796\u001b[0m     \u001b[38;5;66;03m# Handle faceting variables that lack name information\u001b[39;00m\n\u001b[1;32m   2797\u001b[0m     \u001b[38;5;28;01mif\u001b[39;00m var \u001b[38;5;129;01min\u001b[39;00m p\u001b[38;5;241m.\u001b[39mvariables \u001b[38;5;129;01mand\u001b[39;00m p\u001b[38;5;241m.\u001b[39mvariables[var] \u001b[38;5;129;01mis\u001b[39;00m \u001b[38;5;28;01mNone\u001b[39;00m:\n",
      "File \u001b[0;32m~/.local/lib/python3.11/site-packages/seaborn/categorical.py:67\u001b[0m, in \u001b[0;36m_CategoricalPlotter.__init__\u001b[0;34m(self, data, variables, order, orient, require_numeric, color, legend)\u001b[0m\n\u001b[1;32m     56\u001b[0m \u001b[38;5;28;01mdef\u001b[39;00m \u001b[38;5;21m__init__\u001b[39m(\n\u001b[1;32m     57\u001b[0m     \u001b[38;5;28mself\u001b[39m,\n\u001b[1;32m     58\u001b[0m     data\u001b[38;5;241m=\u001b[39m\u001b[38;5;28;01mNone\u001b[39;00m,\n\u001b[0;32m   (...)\u001b[0m\n\u001b[1;32m     64\u001b[0m     legend\u001b[38;5;241m=\u001b[39m\u001b[38;5;124m\"\u001b[39m\u001b[38;5;124mauto\u001b[39m\u001b[38;5;124m\"\u001b[39m,\n\u001b[1;32m     65\u001b[0m ):\n\u001b[0;32m---> 67\u001b[0m     \u001b[38;5;28;43msuper\u001b[39;49m\u001b[43m(\u001b[49m\u001b[43m)\u001b[49m\u001b[38;5;241;43m.\u001b[39;49m\u001b[38;5;21;43m__init__\u001b[39;49m\u001b[43m(\u001b[49m\u001b[43mdata\u001b[49m\u001b[38;5;241;43m=\u001b[39;49m\u001b[43mdata\u001b[49m\u001b[43m,\u001b[49m\u001b[43m \u001b[49m\u001b[43mvariables\u001b[49m\u001b[38;5;241;43m=\u001b[39;49m\u001b[43mvariables\u001b[49m\u001b[43m)\u001b[49m\n\u001b[1;32m     69\u001b[0m     \u001b[38;5;66;03m# This method takes care of some bookkeeping that is necessary because the\u001b[39;00m\n\u001b[1;32m     70\u001b[0m     \u001b[38;5;66;03m# original categorical plots (prior to the 2021 refactor) had some rules that\u001b[39;00m\n\u001b[1;32m     71\u001b[0m     \u001b[38;5;66;03m# don't fit exactly into VectorPlotter logic. It may be wise to have a second\u001b[39;00m\n\u001b[0;32m   (...)\u001b[0m\n\u001b[1;32m     76\u001b[0m     \u001b[38;5;66;03m# default VectorPlotter rules. If we do decide to make orient part of the\u001b[39;00m\n\u001b[1;32m     77\u001b[0m     \u001b[38;5;66;03m# _base variable assignment, we'll want to figure out how to express that.\u001b[39;00m\n\u001b[1;32m     78\u001b[0m     \u001b[38;5;28;01mif\u001b[39;00m \u001b[38;5;28mself\u001b[39m\u001b[38;5;241m.\u001b[39minput_format \u001b[38;5;241m==\u001b[39m \u001b[38;5;124m\"\u001b[39m\u001b[38;5;124mwide\u001b[39m\u001b[38;5;124m\"\u001b[39m \u001b[38;5;129;01mand\u001b[39;00m orient \u001b[38;5;129;01min\u001b[39;00m [\u001b[38;5;124m\"\u001b[39m\u001b[38;5;124mh\u001b[39m\u001b[38;5;124m\"\u001b[39m, \u001b[38;5;124m\"\u001b[39m\u001b[38;5;124my\u001b[39m\u001b[38;5;124m\"\u001b[39m]:\n",
      "File \u001b[0;32m~/.local/lib/python3.11/site-packages/seaborn/_base.py:634\u001b[0m, in \u001b[0;36mVectorPlotter.__init__\u001b[0;34m(self, data, variables)\u001b[0m\n\u001b[1;32m    629\u001b[0m \u001b[38;5;66;03m# var_ordered is relevant only for categorical axis variables, and may\u001b[39;00m\n\u001b[1;32m    630\u001b[0m \u001b[38;5;66;03m# be better handled by an internal axis information object that tracks\u001b[39;00m\n\u001b[1;32m    631\u001b[0m \u001b[38;5;66;03m# such information and is set up by the scale_* methods. The analogous\u001b[39;00m\n\u001b[1;32m    632\u001b[0m \u001b[38;5;66;03m# information for numeric axes would be information about log scales.\u001b[39;00m\n\u001b[1;32m    633\u001b[0m \u001b[38;5;28mself\u001b[39m\u001b[38;5;241m.\u001b[39m_var_ordered \u001b[38;5;241m=\u001b[39m {\u001b[38;5;124m\"\u001b[39m\u001b[38;5;124mx\u001b[39m\u001b[38;5;124m\"\u001b[39m: \u001b[38;5;28;01mFalse\u001b[39;00m, \u001b[38;5;124m\"\u001b[39m\u001b[38;5;124my\u001b[39m\u001b[38;5;124m\"\u001b[39m: \u001b[38;5;28;01mFalse\u001b[39;00m}  \u001b[38;5;66;03m# alt., used DefaultDict\u001b[39;00m\n\u001b[0;32m--> 634\u001b[0m \u001b[38;5;28;43mself\u001b[39;49m\u001b[38;5;241;43m.\u001b[39;49m\u001b[43massign_variables\u001b[49m\u001b[43m(\u001b[49m\u001b[43mdata\u001b[49m\u001b[43m,\u001b[49m\u001b[43m \u001b[49m\u001b[43mvariables\u001b[49m\u001b[43m)\u001b[49m\n\u001b[1;32m    636\u001b[0m \u001b[38;5;66;03m# TODO Lots of tests assume that these are called to initialize the\u001b[39;00m\n\u001b[1;32m    637\u001b[0m \u001b[38;5;66;03m# mappings to default values on class initialization. I'd prefer to\u001b[39;00m\n\u001b[1;32m    638\u001b[0m \u001b[38;5;66;03m# move away from that and only have a mapping when explicitly called.\u001b[39;00m\n\u001b[1;32m    639\u001b[0m \u001b[38;5;28;01mfor\u001b[39;00m var \u001b[38;5;129;01min\u001b[39;00m [\u001b[38;5;124m\"\u001b[39m\u001b[38;5;124mhue\u001b[39m\u001b[38;5;124m\"\u001b[39m, \u001b[38;5;124m\"\u001b[39m\u001b[38;5;124msize\u001b[39m\u001b[38;5;124m\"\u001b[39m, \u001b[38;5;124m\"\u001b[39m\u001b[38;5;124mstyle\u001b[39m\u001b[38;5;124m\"\u001b[39m]:\n",
      "File \u001b[0;32m~/.local/lib/python3.11/site-packages/seaborn/_base.py:679\u001b[0m, in \u001b[0;36mVectorPlotter.assign_variables\u001b[0;34m(self, data, variables)\u001b[0m\n\u001b[1;32m    674\u001b[0m \u001b[38;5;28;01melse\u001b[39;00m:\n\u001b[1;32m    675\u001b[0m     \u001b[38;5;66;03m# When dealing with long-form input, use the newer PlotData\u001b[39;00m\n\u001b[1;32m    676\u001b[0m     \u001b[38;5;66;03m# object (internal but introduced for the objects interface)\u001b[39;00m\n\u001b[1;32m    677\u001b[0m     \u001b[38;5;66;03m# to centralize / standardize data consumption logic.\u001b[39;00m\n\u001b[1;32m    678\u001b[0m     \u001b[38;5;28mself\u001b[39m\u001b[38;5;241m.\u001b[39minput_format \u001b[38;5;241m=\u001b[39m \u001b[38;5;124m\"\u001b[39m\u001b[38;5;124mlong\u001b[39m\u001b[38;5;124m\"\u001b[39m\n\u001b[0;32m--> 679\u001b[0m     plot_data \u001b[38;5;241m=\u001b[39m \u001b[43mPlotData\u001b[49m\u001b[43m(\u001b[49m\u001b[43mdata\u001b[49m\u001b[43m,\u001b[49m\u001b[43m \u001b[49m\u001b[43mvariables\u001b[49m\u001b[43m)\u001b[49m\n\u001b[1;32m    680\u001b[0m     frame \u001b[38;5;241m=\u001b[39m plot_data\u001b[38;5;241m.\u001b[39mframe\n\u001b[1;32m    681\u001b[0m     names \u001b[38;5;241m=\u001b[39m plot_data\u001b[38;5;241m.\u001b[39mnames\n",
      "File \u001b[0;32m~/.local/lib/python3.11/site-packages/seaborn/_core/data.py:58\u001b[0m, in \u001b[0;36mPlotData.__init__\u001b[0;34m(self, data, variables)\u001b[0m\n\u001b[1;32m     51\u001b[0m \u001b[38;5;28;01mdef\u001b[39;00m \u001b[38;5;21m__init__\u001b[39m(\n\u001b[1;32m     52\u001b[0m     \u001b[38;5;28mself\u001b[39m,\n\u001b[1;32m     53\u001b[0m     data: DataSource,\n\u001b[1;32m     54\u001b[0m     variables: \u001b[38;5;28mdict\u001b[39m[\u001b[38;5;28mstr\u001b[39m, VariableSpec],\n\u001b[1;32m     55\u001b[0m ):\n\u001b[1;32m     57\u001b[0m     data \u001b[38;5;241m=\u001b[39m handle_data_source(data)\n\u001b[0;32m---> 58\u001b[0m     frame, names, ids \u001b[38;5;241m=\u001b[39m \u001b[38;5;28;43mself\u001b[39;49m\u001b[38;5;241;43m.\u001b[39;49m\u001b[43m_assign_variables\u001b[49m\u001b[43m(\u001b[49m\u001b[43mdata\u001b[49m\u001b[43m,\u001b[49m\u001b[43m \u001b[49m\u001b[43mvariables\u001b[49m\u001b[43m)\u001b[49m\n\u001b[1;32m     60\u001b[0m     \u001b[38;5;28mself\u001b[39m\u001b[38;5;241m.\u001b[39mframe \u001b[38;5;241m=\u001b[39m frame\n\u001b[1;32m     61\u001b[0m     \u001b[38;5;28mself\u001b[39m\u001b[38;5;241m.\u001b[39mnames \u001b[38;5;241m=\u001b[39m names\n",
      "File \u001b[0;32m~/.local/lib/python3.11/site-packages/seaborn/_core/data.py:232\u001b[0m, in \u001b[0;36mPlotData._assign_variables\u001b[0;34m(self, data, variables)\u001b[0m\n\u001b[1;32m    230\u001b[0m     \u001b[38;5;28;01melse\u001b[39;00m:\n\u001b[1;32m    231\u001b[0m         err \u001b[38;5;241m+\u001b[39m\u001b[38;5;241m=\u001b[39m \u001b[38;5;124m\"\u001b[39m\u001b[38;5;124mAn entry with this name does not appear in `data`.\u001b[39m\u001b[38;5;124m\"\u001b[39m\n\u001b[0;32m--> 232\u001b[0m     \u001b[38;5;28;01mraise\u001b[39;00m \u001b[38;5;167;01mValueError\u001b[39;00m(err)\n\u001b[1;32m    234\u001b[0m \u001b[38;5;28;01melse\u001b[39;00m:\n\u001b[1;32m    235\u001b[0m \n\u001b[1;32m    236\u001b[0m     \u001b[38;5;66;03m# Otherwise, assume the value somehow represents data\u001b[39;00m\n\u001b[1;32m    237\u001b[0m \n\u001b[1;32m    238\u001b[0m     \u001b[38;5;66;03m# Ignore empty data structures\u001b[39;00m\n\u001b[1;32m    239\u001b[0m     \u001b[38;5;28;01mif\u001b[39;00m \u001b[38;5;28misinstance\u001b[39m(val, Sized) \u001b[38;5;129;01mand\u001b[39;00m \u001b[38;5;28mlen\u001b[39m(val) \u001b[38;5;241m==\u001b[39m \u001b[38;5;241m0\u001b[39m:\n",
      "\u001b[0;31mValueError\u001b[0m: Could not interpret value `model_name` for `x`. An entry with this name does not appear in `data`."
     ]
    }
   ],
   "source": [
    "# Plot barplot, faceted by metric and dataset\n",
    "sns.set_theme(style='whitegrid')\n",
    "with sns.plotting_context(context = \"notebook\"):\n",
    "    g1 = sns.catplot(\n",
    "        data=metrics_df_tall,\n",
    "        x='model_name', y='score', row = 'dataset', col='metric',\n",
    "        hue = 'network_prop', kind='bar',\n",
    "        sharex = False, height = 6, aspect = 0.75,\n",
    "        margin_titles = True\n",
    "    )\n",
    "\n",
    "g1.set_xticklabels(rotation = 50, fontsize = 18)\n",
    "g1.tick_params(axis='y', labelsize = 18)\n",
    "g1.set_axis_labels('', 'Score', fontsize = 20)\n",
    "\n",
    "g1.fig.suptitle('Evaluation metrics for ikarus and XGBoost models', fontsize = 25)\n",
    "g1.set_titles(size = 22)\n",
    "\n",
    "sns.move_legend(g1, 'upper left', bbox_to_anchor=(1, 1))\n",
    "g1.legend.get_title().set_text('Network propagation')\n",
    "plt.setp(g1.legend.get_texts(), fontsize='18')\n",
    "plt.setp(g1.legend.get_title(), fontsize='20')\n",
    "\n",
    "g1.fig.tight_layout()\n",
    "\n",
    "plt.show()"
   ]
  },
  {
   "cell_type": "code",
   "execution_count": null,
   "id": "53a77130-ba91-4cde-8156-3f46337f893e",
   "metadata": {},
   "outputs": [],
   "source": [
    "g1.save_figure('metrics_ikarus_xgboost.png')"
   ]
  }
 ],
 "metadata": {
  "kernelspec": {
   "display_name": "Python 3 (ipykernel)",
   "language": "python",
   "name": "python3"
  },
  "language_info": {
   "codemirror_mode": {
    "name": "ipython",
    "version": 3
   },
   "file_extension": ".py",
   "mimetype": "text/x-python",
   "name": "python",
   "nbconvert_exporter": "python",
   "pygments_lexer": "ipython3",
   "version": "3.11.0"
  }
 },
 "nbformat": 4,
 "nbformat_minor": 5
}
