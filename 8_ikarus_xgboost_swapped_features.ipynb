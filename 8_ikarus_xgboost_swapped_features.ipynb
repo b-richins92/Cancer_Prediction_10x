{
 "cells": [
  {
   "cell_type": "markdown",
   "id": "b7ece8c2-9830-4f00-8b2d-3a2f8b90c8d9",
   "metadata": {},
   "source": [
    "# Notebook 8: Test ikarus and XGBoost models with swapped features\n",
    "Question: Does swapping feature sets affect performance for ikarus and XGBoost models?\n",
    "\n",
    "Tested the following:\n",
    "* ikarus model using top 200 DGEs for our model\n",
    "* XGBoost model using ikarus gene signatures (identified from training set)\n",
    "\n",
    "Code uses 6_ikarus.ipynb and [ikarus tutorial](https://github.com/BIMSBbioinfo/ikarus/blob/master/tutorials/tutorial.ipynb) as references"
   ]
  },
  {
   "cell_type": "code",
   "execution_count": 1,
   "id": "7c7340f6-1f49-4e16-bd6c-0c8a93fcccd1",
   "metadata": {},
   "outputs": [
    {
     "name": "stderr",
     "output_type": "stream",
     "text": [
      "/home/gylam/.local/lib/python3.11/site-packages/tqdm/auto.py:21: TqdmWarning: IProgress not found. Please update jupyter and ipywidgets. See https://ipywidgets.readthedocs.io/en/stable/user_install.html\n",
      "  from .autonotebook import tqdm as notebook_tqdm\n"
     ]
    }
   ],
   "source": [
    "import main_functions as mf\n",
    "from pathlib import Path\n",
    "import os\n",
    "import pandas as pd\n",
    "import numpy as np\n",
    "import anndata\n",
    "import scanpy as sc\n",
    "from ikarus import classifier, gene_list, utils, data\n",
    "import upsetplot\n",
    "from sklearn.metrics import accuracy_score, confusion_matrix, ConfusionMatrixDisplay, f1_score, recall_score, precision_score\n",
    "from sklearn.linear_model import LogisticRegression\n",
    "from sklearn.model_selection import StratifiedGroupKFold\n",
    "from xgboost import XGBClassifier"
   ]
  },
  {
   "cell_type": "code",
   "execution_count": 2,
   "id": "113b6b99-af51-43c8-a9fd-4b704c9e73fe",
   "metadata": {},
   "outputs": [
    {
     "name": "stdin",
     "output_type": "stream",
     "text": [
      "Please enter the path of the folder containing datasets:  ../data/\n"
     ]
    }
   ],
   "source": [
    "# Set up working directory\n",
    "folder_path = input('Please enter the path of the folder containing datasets: ')\n",
    "os.chdir(folder_path)"
   ]
  },
  {
   "cell_type": "code",
   "execution_count": 3,
   "id": "69584ee3-9f04-4a65-a5e4-045398bfd081",
   "metadata": {},
   "outputs": [],
   "source": [
    "# Constants and global variables\n",
    "RANDOM_STATE = 42\n",
    "metrics_df_models = pd.DataFrame()"
   ]
  },
  {
   "cell_type": "code",
   "execution_count": 4,
   "id": "f4116d55-ad61-429c-831a-6a7657d23cc0",
   "metadata": {},
   "outputs": [],
   "source": [
    "# Function to calculate and output evaluation metrics\n",
    "def calc_eval_metrics(test_labels, y_pred):\n",
    "    recall = recall_score(test_labels, y_pred)\n",
    "    precision = precision_score(test_labels, y_pred)\n",
    "    accuracy = accuracy_score(test_labels, y_pred)\n",
    "    f1 = f1_score(test_labels, y_pred)\n",
    "\n",
    "    metrics_df = pd.DataFrame({'recall': [recall], 'precision': [precision],\n",
    "                               'f1': [f1], 'accuracy': [accuracy]})\n",
    "    metrics_df = metrics_df.round(3)\n",
    "    conf_matrix = confusion_matrix(test_labels, y_pred)\n",
    "        \n",
    "    print(conf_matrix)\n",
    "    display(metrics_df)\n",
    "    return metrics_df, conf_matrix"
   ]
  },
  {
   "cell_type": "code",
   "execution_count": 5,
   "id": "e4515d76-21db-4bb7-8c03-983959fe79e2",
   "metadata": {
    "scrolled": true
   },
   "outputs": [],
   "source": [
    "# Load training and two test sets\n",
    "adatas = {}\n",
    "\n",
    "train_adata = sc.read_h5ad('train.h5ad')\n",
    "train_adata.obs['CellType'] = np.where(train_adata.obs.orig_cancer_label == 1, 'Cancer', 'Other')\n",
    "train_adata.var['gene_symbol'] = train_adata.var.gene_ids\n",
    "adatas['train'] = train_adata\n",
    "\n",
    "# Load in test sets 1 and 2\n",
    "test1_adata = sc.read_h5ad('test1.h5ad')\n",
    "test1_adata.obs['CellType'] = np.where(test1_adata.obs.orig_cancer_label == 1, 'Cancer', 'Other')\n",
    "test1_adata.var['gene_symbol'] = test1_adata.var.gene_ids\n",
    "\n",
    "test2_adata = sc.read_h5ad('test2.h5ad')\n",
    "test2_adata.obs['CellType'] = np.where(test2_adata.obs.orig_cancer_label == 1, 'Cancer', 'Other')\n",
    "test2_adata.var['gene_symbol'] = test2_adata.var.gene_ids\n",
    "\n",
    "adatas['test1'] = test1_adata\n",
    "adatas['test2'] = test2_adata"
   ]
  },
  {
   "cell_type": "code",
   "execution_count": 6,
   "id": "7870f3b4-5919-419d-8024-73f773518102",
   "metadata": {},
   "outputs": [],
   "source": [
    "# Get top 200 DGEs from training data - 2 lists\n",
    "\n",
    "cancer_dge, norm_dge = mf.get_diff_exp_genes(train_adata)\n",
    "cancer_dge_top100 = cancer_dge[:100]\n",
    "norm_dge_top100 = norm_dge[:100]\n",
    "model_dge_top200  = list(set(cancer_dge_top100).union(norm_dge_top100))"
   ]
  },
  {
   "cell_type": "code",
   "execution_count": 7,
   "id": "0ae71b8e-6ad8-4d4e-a4f9-58fa0fd23593",
   "metadata": {},
   "outputs": [],
   "source": [
    "# Save DGE signature as .gmt file.\n",
    "gene_list.save_gmt([norm_dge_top100, cancer_dge_top100],\n",
    "                   ['Normal', 'Tumor'],\n",
    "                   out_dir='train_model_dge/')"
   ]
  },
  {
   "cell_type": "code",
   "execution_count": 8,
   "id": "217a6b91-7937-40a2-995f-606967718148",
   "metadata": {
    "scrolled": true
   },
   "outputs": [],
   "source": [
    "# Create gene signatures using ikarus method\n",
    "\n",
    "dfs = [train_adata]\n",
    "names = ['train']\n",
    "obs_names = ['CellType']\n",
    "label_upregs = ['Cancer']\n",
    "label_downregs = ['Other']\n",
    "\n",
    "signatures_cancer = gene_list.create_all(\n",
    "    label_upregs_list=label_upregs,\n",
    "    label_downregs_list=label_downregs,\n",
    "    adatas_dict=adatas,\n",
    "    names_list=names,\n",
    "    obs_names_list=obs_names,\n",
    "    integration_fun=utils.intersection_fun,\n",
    "    top_x=300\n",
    ")\n",
    "\n",
    "signatures_norm = gene_list.create_all(\n",
    "    label_upregs_list=label_downregs,\n",
    "    label_downregs_list=label_upregs,\n",
    "    adatas_dict=adatas,\n",
    "    names_list=names,\n",
    "    obs_names_list=obs_names,\n",
    "    integration_fun=utils.intersection_fun,\n",
    "    top_x=300\n",
    ")"
   ]
  },
  {
   "cell_type": "code",
   "execution_count": 9,
   "id": "14b643a2-596a-4ba9-a7ac-ab70e7ef4dfd",
   "metadata": {
    "scrolled": true
   },
   "outputs": [
    {
     "name": "stdout",
     "output_type": "stream",
     "text": [
      "num tumor_genes: 300, num normal_genes: 300\n",
      "600\n"
     ]
    }
   ],
   "source": [
    "# Get lists of tumor and normal genes from ikarus signature (generated with Qian dataset)\n",
    "\n",
    "contents_cancer = upsetplot.from_contents(signatures_cancer)\n",
    "contents_norm = upsetplot.from_contents(signatures_norm)\n",
    "\n",
    "tumor_genes = contents_cancer['id'].values.ravel().tolist()\n",
    "normal_genes = contents_norm['id'].values.ravel().tolist()\n",
    "print(f'num tumor_genes: {len(tumor_genes)}, num normal_genes: {len(normal_genes)}')\n",
    "overlap = list(set(tumor_genes).union(normal_genes))\n",
    "print(len(overlap)) # Equals sum of tumor_genes and normal_genes, so no overlap\n",
    "\n",
    "# Save signatures as .gmt file\n",
    "gene_list.save_gmt([normal_genes, tumor_genes], ['Normal', 'Tumor'], out_dir='../out/train_ikarus_dge/')"
   ]
  },
  {
   "cell_type": "code",
   "execution_count": 10,
   "id": "71ec67da-dff7-4977-9c4f-920f98b0fe9f",
   "metadata": {
    "scrolled": true
   },
   "outputs": [
    {
     "name": "stdout",
     "output_type": "stream",
     "text": [
      "Less than 80% of signature genes are available in data set. A temporary signature is stored where non-overlapping genes are removed. It is proceeded with the temporary signature.\n",
      "Less than 80% of signature genes are available in data set. A temporary signature is stored where non-overlapping genes are removed. It is proceeded with the temporary signature.\n"
     ]
    },
    {
     "name": "stderr",
     "output_type": "stream",
     "text": [
      "/home/gylam/.local/lib/python3.11/site-packages/scanpy/preprocessing/_highly_variable_genes.py:696: ImplicitModificationWarning: Trying to modify attribute `._uns` of view, initializing view as actual.\n",
      "  adata.uns[\"hvg\"] = {\"flavor\": flavor}\n",
      "/home/gylam/.local/lib/python3.11/site-packages/scanpy/preprocessing/_pca.py:374: FutureWarning: Argument `use_highly_variable` is deprecated, consider using the mask argument. Use_highly_variable=True can be called through mask_var=\"highly_variable\". Use_highly_variable=False can be called through mask_var=None\n",
      "  warn(msg, FutureWarning)\n"
     ]
    },
    {
     "name": "stdout",
     "output_type": "stream",
     "text": [
      "converged at iteration step: 32 with 0.0008 < 0.001\n",
      "[[1336 2634]\n",
      " [  26 6363]]\n"
     ]
    },
    {
     "data": {
      "text/html": [
       "<div>\n",
       "<style scoped>\n",
       "    .dataframe tbody tr th:only-of-type {\n",
       "        vertical-align: middle;\n",
       "    }\n",
       "\n",
       "    .dataframe tbody tr th {\n",
       "        vertical-align: top;\n",
       "    }\n",
       "\n",
       "    .dataframe thead th {\n",
       "        text-align: right;\n",
       "    }\n",
       "</style>\n",
       "<table border=\"1\" class=\"dataframe\">\n",
       "  <thead>\n",
       "    <tr style=\"text-align: right;\">\n",
       "      <th></th>\n",
       "      <th>recall</th>\n",
       "      <th>precision</th>\n",
       "      <th>f1</th>\n",
       "      <th>accuracy</th>\n",
       "    </tr>\n",
       "  </thead>\n",
       "  <tbody>\n",
       "    <tr>\n",
       "      <th>0</th>\n",
       "      <td>0.996</td>\n",
       "      <td>0.707</td>\n",
       "      <td>0.827</td>\n",
       "      <td>0.743</td>\n",
       "    </tr>\n",
       "  </tbody>\n",
       "</table>\n",
       "</div>"
      ],
      "text/plain": [
       "   recall  precision     f1  accuracy\n",
       "0   0.996      0.707  0.827     0.743"
      ]
     },
     "metadata": {},
     "output_type": "display_data"
    },
    {
     "name": "stdout",
     "output_type": "stream",
     "text": [
      "Less than 80% of signature genes are available in data set. A temporary signature is stored where non-overlapping genes are removed. It is proceeded with the temporary signature.\n",
      "Less than 80% of signature genes are available in data set. A temporary signature is stored where non-overlapping genes are removed. It is proceeded with the temporary signature.\n"
     ]
    },
    {
     "name": "stderr",
     "output_type": "stream",
     "text": [
      "/home/gylam/.local/lib/python3.11/site-packages/scanpy/preprocessing/_highly_variable_genes.py:696: ImplicitModificationWarning: Trying to modify attribute `._uns` of view, initializing view as actual.\n",
      "  adata.uns[\"hvg\"] = {\"flavor\": flavor}\n",
      "/home/gylam/.local/lib/python3.11/site-packages/scanpy/preprocessing/_pca.py:374: FutureWarning: Argument `use_highly_variable` is deprecated, consider using the mask argument. Use_highly_variable=True can be called through mask_var=\"highly_variable\". Use_highly_variable=False can be called through mask_var=None\n",
      "  warn(msg, FutureWarning)\n"
     ]
    },
    {
     "name": "stdout",
     "output_type": "stream",
     "text": [
      "converged at iteration step: 44 with 0.0009 < 0.001\n",
      "[[5542 2541]\n",
      " [   6 1767]]\n"
     ]
    },
    {
     "data": {
      "text/html": [
       "<div>\n",
       "<style scoped>\n",
       "    .dataframe tbody tr th:only-of-type {\n",
       "        vertical-align: middle;\n",
       "    }\n",
       "\n",
       "    .dataframe tbody tr th {\n",
       "        vertical-align: top;\n",
       "    }\n",
       "\n",
       "    .dataframe thead th {\n",
       "        text-align: right;\n",
       "    }\n",
       "</style>\n",
       "<table border=\"1\" class=\"dataframe\">\n",
       "  <thead>\n",
       "    <tr style=\"text-align: right;\">\n",
       "      <th></th>\n",
       "      <th>recall</th>\n",
       "      <th>precision</th>\n",
       "      <th>f1</th>\n",
       "      <th>accuracy</th>\n",
       "    </tr>\n",
       "  </thead>\n",
       "  <tbody>\n",
       "    <tr>\n",
       "      <th>0</th>\n",
       "      <td>0.997</td>\n",
       "      <td>0.41</td>\n",
       "      <td>0.581</td>\n",
       "      <td>0.742</td>\n",
       "    </tr>\n",
       "  </tbody>\n",
       "</table>\n",
       "</div>"
      ],
      "text/plain": [
       "   recall  precision     f1  accuracy\n",
       "0   0.997       0.41  0.581     0.742"
      ]
     },
     "metadata": {},
     "output_type": "display_data"
    }
   ],
   "source": [
    "# Run baseline ikarus - confirms similar results as 6_ikarus.ipynb\n",
    "# Train with training set, using features from ikarus approach\n",
    "\n",
    "signatures_path_qian_ikarus = Path('../out/train_ikarus_baseline/signatures.gmt')\n",
    "\n",
    "model_qian_ikarus = classifier.Ikarus(signatures_gmt=signatures_path_qian_ikarus,\n",
    "                                      out_dir='../out/train_ikarus_baseline', adapt_signatures = True)\n",
    "\n",
    "train_adata_list = [adatas['train']]\n",
    "train_names_list = ['train']\n",
    "obs_columns_list = ['orig_cancer_label']\n",
    "\n",
    "model_qian_ikarus.fit(train_adata_list, train_names_list, obs_columns_list, save=True)\n",
    "\n",
    "# Run on test sets 1 and 2\n",
    "\n",
    "ikarus_baseline_test1 = model_qian_ikarus.predict(test1_adata, 'test1', save=True)\n",
    "y_test1 = test1_adata.obs.orig_cancer_label\n",
    "y_pred1 = np.where(ikarus_baseline_test1 == 'Tumor', 1, 0)\n",
    "ikarus_baseline_metrics1, ikarus_baseline_cm1 = calc_eval_metrics(y_test1, y_pred1)\n",
    "ikarus_baseline_metrics1['model'] = 'ikarus'\n",
    "ikarus_baseline_metrics1['feat_set'] = 'ikarus'\n",
    "ikarus_baseline_metrics1['dataset'] = 'test1'\n",
    "\n",
    "ikarus_baseline_test2 = model_qian_ikarus.predict(test2_adata, 'test2', save=True)\n",
    "y_test2 = test2_adata.obs.orig_cancer_label\n",
    "y_pred2 = np.where(ikarus_baseline_test2 == 'Tumor', 1, 0)\n",
    "ikarus_baseline_metrics2, ikarus_baseline_cm2 = calc_eval_metrics(y_test2, y_pred2)\n",
    "ikarus_baseline_metrics2['model'] = 'ikarus'\n",
    "ikarus_baseline_metrics2['feat_set'] = 'ikarus'\n",
    "ikarus_baseline_metrics2['dataset'] = 'test2'\n",
    "\n",
    "# Save metrics to metrics_df_models\n",
    "metrics_df_models = pd.concat([metrics_df_models, ikarus_baseline_metrics1])\n",
    "metrics_df_models = pd.concat([metrics_df_models, ikarus_baseline_metrics2])"
   ]
  },
  {
   "cell_type": "code",
   "execution_count": 11,
   "id": "8ae15987-cc25-4f2d-9c8d-96da6a871e39",
   "metadata": {
    "scrolled": true
   },
   "outputs": [
    {
     "name": "stderr",
     "output_type": "stream",
     "text": [
      "/home/gylam/.local/lib/python3.11/site-packages/scanpy/preprocessing/_highly_variable_genes.py:696: ImplicitModificationWarning: Trying to modify attribute `._uns` of view, initializing view as actual.\n",
      "  adata.uns[\"hvg\"] = {\"flavor\": flavor}\n",
      "/home/gylam/.local/lib/python3.11/site-packages/scanpy/preprocessing/_pca.py:374: FutureWarning: Argument `use_highly_variable` is deprecated, consider using the mask argument. Use_highly_variable=True can be called through mask_var=\"highly_variable\". Use_highly_variable=False can be called through mask_var=None\n",
      "  warn(msg, FutureWarning)\n"
     ]
    },
    {
     "name": "stdout",
     "output_type": "stream",
     "text": [
      "converged at iteration step: 7 with 0.0008 < 0.001\n",
      "Metrics for ikarus model using custom DGE features, test set 1\n",
      "[[3690  280]\n",
      " [  19 6370]]\n"
     ]
    },
    {
     "data": {
      "text/html": [
       "<div>\n",
       "<style scoped>\n",
       "    .dataframe tbody tr th:only-of-type {\n",
       "        vertical-align: middle;\n",
       "    }\n",
       "\n",
       "    .dataframe tbody tr th {\n",
       "        vertical-align: top;\n",
       "    }\n",
       "\n",
       "    .dataframe thead th {\n",
       "        text-align: right;\n",
       "    }\n",
       "</style>\n",
       "<table border=\"1\" class=\"dataframe\">\n",
       "  <thead>\n",
       "    <tr style=\"text-align: right;\">\n",
       "      <th></th>\n",
       "      <th>recall</th>\n",
       "      <th>precision</th>\n",
       "      <th>f1</th>\n",
       "      <th>accuracy</th>\n",
       "    </tr>\n",
       "  </thead>\n",
       "  <tbody>\n",
       "    <tr>\n",
       "      <th>0</th>\n",
       "      <td>0.997</td>\n",
       "      <td>0.958</td>\n",
       "      <td>0.977</td>\n",
       "      <td>0.971</td>\n",
       "    </tr>\n",
       "  </tbody>\n",
       "</table>\n",
       "</div>"
      ],
      "text/plain": [
       "   recall  precision     f1  accuracy\n",
       "0   0.997      0.958  0.977     0.971"
      ]
     },
     "metadata": {},
     "output_type": "display_data"
    },
    {
     "name": "stderr",
     "output_type": "stream",
     "text": [
      "/home/gylam/.local/lib/python3.11/site-packages/scanpy/preprocessing/_highly_variable_genes.py:696: ImplicitModificationWarning: Trying to modify attribute `._uns` of view, initializing view as actual.\n",
      "  adata.uns[\"hvg\"] = {\"flavor\": flavor}\n",
      "/home/gylam/.local/lib/python3.11/site-packages/scanpy/preprocessing/_pca.py:374: FutureWarning: Argument `use_highly_variable` is deprecated, consider using the mask argument. Use_highly_variable=True can be called through mask_var=\"highly_variable\". Use_highly_variable=False can be called through mask_var=None\n",
      "  warn(msg, FutureWarning)\n"
     ]
    },
    {
     "name": "stdout",
     "output_type": "stream",
     "text": [
      "converged at iteration step: 8 with 0.0004 < 0.001\n",
      "Metrics for ikarus model using custom DGE features, test set 2\n",
      "[[8083    0]\n",
      " [  29 1744]]\n"
     ]
    },
    {
     "data": {
      "text/html": [
       "<div>\n",
       "<style scoped>\n",
       "    .dataframe tbody tr th:only-of-type {\n",
       "        vertical-align: middle;\n",
       "    }\n",
       "\n",
       "    .dataframe tbody tr th {\n",
       "        vertical-align: top;\n",
       "    }\n",
       "\n",
       "    .dataframe thead th {\n",
       "        text-align: right;\n",
       "    }\n",
       "</style>\n",
       "<table border=\"1\" class=\"dataframe\">\n",
       "  <thead>\n",
       "    <tr style=\"text-align: right;\">\n",
       "      <th></th>\n",
       "      <th>recall</th>\n",
       "      <th>precision</th>\n",
       "      <th>f1</th>\n",
       "      <th>accuracy</th>\n",
       "    </tr>\n",
       "  </thead>\n",
       "  <tbody>\n",
       "    <tr>\n",
       "      <th>0</th>\n",
       "      <td>0.984</td>\n",
       "      <td>1.0</td>\n",
       "      <td>0.992</td>\n",
       "      <td>0.997</td>\n",
       "    </tr>\n",
       "  </tbody>\n",
       "</table>\n",
       "</div>"
      ],
      "text/plain": [
       "   recall  precision     f1  accuracy\n",
       "0   0.984        1.0  0.992     0.997"
      ]
     },
     "metadata": {},
     "output_type": "display_data"
    }
   ],
   "source": [
    "# Run ikarus using our model's DGE gene signature\n",
    "signatures_path_qian_model = Path('../out/train_model_dge/signatures.gmt')\n",
    "\n",
    "model_qian_dge = classifier.Ikarus(signatures_gmt=signatures_path_qian_model,\n",
    "                                      out_dir='../out/train_ikarus_dge/', adapt_signatures = True)\n",
    "\n",
    "model_qian_dge.fit(train_adata_list, train_names_list, obs_columns_list, save=True)\n",
    "\n",
    "# Run on test sets 1 and 2 - compare with Bryan's results\n",
    "\n",
    "model_val_test1 = model_qian_dge.predict(test1_adata, 'test1', save=True)\n",
    "y_test1 = test1_adata.obs.orig_cancer_label\n",
    "y_pred1 = np.where(model_val_test1 == 'Tumor', 1, 0)\n",
    "print(f'Metrics for ikarus model using custom DGE features, test set 1')\n",
    "ikarus_dge_metrics1, ikarus_dge_cm1 = calc_eval_metrics(y_test1, y_pred1)\n",
    "ikarus_dge_metrics1['model'] = 'ikarus'\n",
    "ikarus_dge_metrics1['feat_set'] = 'dge'\n",
    "ikarus_dge_metrics1['dataset'] = 'test1'\n",
    "\n",
    "model_val_test2 = model_qian_dge.predict(test2_adata, 'test2', save=True)\n",
    "y_test2 = test2_adata.obs.orig_cancer_label\n",
    "y_pred2 = np.where(model_val_test2 == 'Tumor', 1, 0)\n",
    "print(f'Metrics for ikarus model using custom DGE features, test set 2')\n",
    "ikarus_dge_metrics2, ikarus_dge_cm2 = calc_eval_metrics(y_test2, y_pred2)\n",
    "ikarus_dge_metrics2['model'] = 'ikarus'\n",
    "ikarus_dge_metrics2['feat_set'] = 'dge'\n",
    "ikarus_dge_metrics2['dataset'] = 'test2'\n",
    "\n",
    "metrics_df_models = pd.concat([metrics_df_models, ikarus_dge_metrics1])\n",
    "metrics_df_models = pd.concat([metrics_df_models, ikarus_dge_metrics2])"
   ]
  },
  {
   "cell_type": "markdown",
   "id": "0c3b1cbc-e214-443a-8d75-e1f044251360",
   "metadata": {},
   "source": [
    "# Test our model using ikarus gene signature (using training set)"
   ]
  },
  {
   "cell_type": "code",
   "execution_count": 12,
   "id": "bbce244a-f435-4971-896a-7bacaf741e31",
   "metadata": {},
   "outputs": [
    {
     "data": {
      "text/html": [
       "<div>\n",
       "<style scoped>\n",
       "    .dataframe tbody tr th:only-of-type {\n",
       "        vertical-align: middle;\n",
       "    }\n",
       "\n",
       "    .dataframe tbody tr th {\n",
       "        vertical-align: top;\n",
       "    }\n",
       "\n",
       "    .dataframe thead th {\n",
       "        text-align: right;\n",
       "    }\n",
       "</style>\n",
       "<table border=\"1\" class=\"dataframe\">\n",
       "  <thead>\n",
       "    <tr style=\"text-align: right;\">\n",
       "      <th></th>\n",
       "      <th>1</th>\n",
       "      <th>2</th>\n",
       "      <th>3</th>\n",
       "      <th>4</th>\n",
       "      <th>5</th>\n",
       "      <th>6</th>\n",
       "      <th>7</th>\n",
       "      <th>8</th>\n",
       "      <th>9</th>\n",
       "      <th>10</th>\n",
       "      <th>...</th>\n",
       "      <th>292</th>\n",
       "      <th>293</th>\n",
       "      <th>294</th>\n",
       "      <th>295</th>\n",
       "      <th>296</th>\n",
       "      <th>297</th>\n",
       "      <th>298</th>\n",
       "      <th>299</th>\n",
       "      <th>300</th>\n",
       "      <th>301</th>\n",
       "    </tr>\n",
       "    <tr>\n",
       "      <th>0</th>\n",
       "      <th></th>\n",
       "      <th></th>\n",
       "      <th></th>\n",
       "      <th></th>\n",
       "      <th></th>\n",
       "      <th></th>\n",
       "      <th></th>\n",
       "      <th></th>\n",
       "      <th></th>\n",
       "      <th></th>\n",
       "      <th></th>\n",
       "      <th></th>\n",
       "      <th></th>\n",
       "      <th></th>\n",
       "      <th></th>\n",
       "      <th></th>\n",
       "      <th></th>\n",
       "      <th></th>\n",
       "      <th></th>\n",
       "      <th></th>\n",
       "      <th></th>\n",
       "    </tr>\n",
       "  </thead>\n",
       "  <tbody>\n",
       "    <tr>\n",
       "      <th>Normal</th>\n",
       "      <td>ikarus</td>\n",
       "      <td>TRBV21-1</td>\n",
       "      <td>KLRC4</td>\n",
       "      <td>IGKV1OR22-5</td>\n",
       "      <td>TRDV3</td>\n",
       "      <td>TRAV40</td>\n",
       "      <td>TRBV12-5</td>\n",
       "      <td>TRBV23-1</td>\n",
       "      <td>CTC-490G23.2</td>\n",
       "      <td>RP11-428G5.5</td>\n",
       "      <td>...</td>\n",
       "      <td>AC093326.3</td>\n",
       "      <td>RP11-397O8.7</td>\n",
       "      <td>TRERNA1</td>\n",
       "      <td>RP11-318A15.8</td>\n",
       "      <td>AC016994.2</td>\n",
       "      <td>MYF6</td>\n",
       "      <td>RP11-255M2.2</td>\n",
       "      <td>HCFC1-AS1</td>\n",
       "      <td>IGKV1OR2-1</td>\n",
       "      <td>OTOS</td>\n",
       "    </tr>\n",
       "    <tr>\n",
       "      <th>Tumor</th>\n",
       "      <td>ikarus</td>\n",
       "      <td>RP3-340B19.3</td>\n",
       "      <td>CTD-2589M5.4</td>\n",
       "      <td>AC012485.2</td>\n",
       "      <td>MCCD1</td>\n",
       "      <td>KRTAP5-3</td>\n",
       "      <td>RP11-107I14.2</td>\n",
       "      <td>RP11-429J17.5</td>\n",
       "      <td>AC097468.4</td>\n",
       "      <td>LINC01194</td>\n",
       "      <td>...</td>\n",
       "      <td>LRTM1</td>\n",
       "      <td>CHST9</td>\n",
       "      <td>ADGRD2</td>\n",
       "      <td>BARX1-AS1</td>\n",
       "      <td>EVPLL</td>\n",
       "      <td>ANXA8</td>\n",
       "      <td>MCIDAS</td>\n",
       "      <td>GRHL2</td>\n",
       "      <td>OPRK1</td>\n",
       "      <td>PRSS8</td>\n",
       "    </tr>\n",
       "  </tbody>\n",
       "</table>\n",
       "<p>2 rows × 301 columns</p>\n",
       "</div>"
      ],
      "text/plain": [
       "           1             2             3            4      5         6    \\\n",
       "0                                                                          \n",
       "Normal  ikarus      TRBV21-1         KLRC4  IGKV1OR22-5  TRDV3    TRAV40   \n",
       "Tumor   ikarus  RP3-340B19.3  CTD-2589M5.4   AC012485.2  MCCD1  KRTAP5-3   \n",
       "\n",
       "                  7              8             9             10   ...  \\\n",
       "0                                                                 ...   \n",
       "Normal       TRBV12-5       TRBV23-1  CTC-490G23.2  RP11-428G5.5  ...   \n",
       "Tumor   RP11-107I14.2  RP11-429J17.5    AC097468.4     LINC01194  ...   \n",
       "\n",
       "               292           293      294            295         296    297  \\\n",
       "0                                                                             \n",
       "Normal  AC093326.3  RP11-397O8.7  TRERNA1  RP11-318A15.8  AC016994.2   MYF6   \n",
       "Tumor        LRTM1         CHST9   ADGRD2      BARX1-AS1       EVPLL  ANXA8   \n",
       "\n",
       "                 298        299         300    301  \n",
       "0                                                   \n",
       "Normal  RP11-255M2.2  HCFC1-AS1  IGKV1OR2-1   OTOS  \n",
       "Tumor         MCIDAS      GRHL2       OPRK1  PRSS8  \n",
       "\n",
       "[2 rows x 301 columns]"
      ]
     },
     "metadata": {},
     "output_type": "display_data"
    }
   ],
   "source": [
    "# Load gene signatures using training set (ikarus approach)\n",
    "gene_sig = pd.read_csv(signatures_path_qian_ikarus, sep='\\t', header=None, index_col = 0)\n",
    "display(gene_sig.head())"
   ]
  },
  {
   "cell_type": "code",
   "execution_count": 13,
   "id": "cfab1c58-ac5b-4e5a-a420-48988638882a",
   "metadata": {},
   "outputs": [
    {
     "data": {
      "text/html": [
       "<div>\n",
       "<style scoped>\n",
       "    .dataframe tbody tr th:only-of-type {\n",
       "        vertical-align: middle;\n",
       "    }\n",
       "\n",
       "    .dataframe tbody tr th {\n",
       "        vertical-align: top;\n",
       "    }\n",
       "\n",
       "    .dataframe thead th {\n",
       "        text-align: right;\n",
       "    }\n",
       "</style>\n",
       "<table border=\"1\" class=\"dataframe\">\n",
       "  <thead>\n",
       "    <tr style=\"text-align: right;\">\n",
       "      <th></th>\n",
       "      <th>gene_order</th>\n",
       "      <th>Normal</th>\n",
       "      <th>Tumor</th>\n",
       "    </tr>\n",
       "  </thead>\n",
       "  <tbody>\n",
       "    <tr>\n",
       "      <th>0</th>\n",
       "      <td>1</td>\n",
       "      <td>TRBV21-1</td>\n",
       "      <td>RP3-340B19.3</td>\n",
       "    </tr>\n",
       "    <tr>\n",
       "      <th>1</th>\n",
       "      <td>2</td>\n",
       "      <td>KLRC4</td>\n",
       "      <td>CTD-2589M5.4</td>\n",
       "    </tr>\n",
       "    <tr>\n",
       "      <th>2</th>\n",
       "      <td>3</td>\n",
       "      <td>IGKV1OR22-5</td>\n",
       "      <td>AC012485.2</td>\n",
       "    </tr>\n",
       "    <tr>\n",
       "      <th>3</th>\n",
       "      <td>4</td>\n",
       "      <td>TRDV3</td>\n",
       "      <td>MCCD1</td>\n",
       "    </tr>\n",
       "    <tr>\n",
       "      <th>4</th>\n",
       "      <td>5</td>\n",
       "      <td>TRAV40</td>\n",
       "      <td>KRTAP5-3</td>\n",
       "    </tr>\n",
       "  </tbody>\n",
       "</table>\n",
       "</div>"
      ],
      "text/plain": [
       "0  gene_order       Normal         Tumor\n",
       "0           1     TRBV21-1  RP3-340B19.3\n",
       "1           2        KLRC4  CTD-2589M5.4\n",
       "2           3  IGKV1OR22-5    AC012485.2\n",
       "3           4        TRDV3         MCCD1\n",
       "4           5       TRAV40      KRTAP5-3"
      ]
     },
     "metadata": {},
     "output_type": "display_data"
    }
   ],
   "source": [
    "# Transpose, get tumor and normal gene lists as columns\n",
    "gene_sig_transpose = gene_sig.T\n",
    "gene_sig_transpose = gene_sig_transpose.drop(index = 1).reset_index().rename(columns = {'index': 'gene_order'})\n",
    "gene_sig_transpose['gene_order'] = gene_sig_transpose['gene_order'] - 1\n",
    "display(gene_sig_transpose.head())"
   ]
  },
  {
   "cell_type": "code",
   "execution_count": 14,
   "id": "389f1d1d-d00e-4533-ab5b-0ad2c78ee089",
   "metadata": {},
   "outputs": [
    {
     "data": {
      "text/plain": [
       "(300, 300)"
      ]
     },
     "execution_count": 14,
     "metadata": {},
     "output_type": "execute_result"
    }
   ],
   "source": [
    "# Get lists of tumor and normal genes from ikarus signatures\n",
    "ikarus_tumor_genes = gene_sig_transpose['Tumor'].dropna().to_list()\n",
    "ikarus_norm_genes = gene_sig_transpose['Normal'].dropna().to_list()\n",
    "len(ikarus_tumor_genes), len(ikarus_norm_genes)"
   ]
  },
  {
   "cell_type": "code",
   "execution_count": 15,
   "id": "4a12203d-c3a6-46d6-8ed8-85efaec1fdb7",
   "metadata": {},
   "outputs": [
    {
     "data": {
      "text/plain": [
       "600"
      ]
     },
     "execution_count": 15,
     "metadata": {},
     "output_type": "execute_result"
    }
   ],
   "source": [
    "# Confirm tumor and normal genes do not contain overlapping genes (total genes = 600)\n",
    "ikarus_genes = list(set(ikarus_tumor_genes).union(ikarus_norm_genes))\n",
    "len(ikarus_genes)"
   ]
  },
  {
   "cell_type": "code",
   "execution_count": 16,
   "id": "9d58d5df-b27c-4c48-b392-19cbf82e1ebb",
   "metadata": {},
   "outputs": [],
   "source": [
    "# Concatenate all datasets to create a dataframe with all the same features (for training and testing purposes)\n",
    "X1, X2, X3 = adatas['train'].to_df(), adatas['test1'].to_df(), adatas['test2'].to_df()\n",
    "concat = pd.concat([X1,X2,X3]).fillna(0)\n",
    "\n",
    "# Extracting relevant columns from concatenated dataset\n",
    "X1 = concat.iloc[0:len(X1)]\n",
    "X2 = concat.iloc[len(X1):len(X1)+len(X2)]\n",
    "X3 = concat.iloc[len(X1)+len(X2):len(X1)+len(X2)+len(X3)]\n",
    "\n",
    "y1 = adatas['train'].obs.orig_cancer_label\n",
    "y2 = adatas['test1'].obs.orig_cancer_label\n",
    "y3 = adatas['test2'].obs.orig_cancer_label\n",
    "\n",
    "groups = adatas['train'].obs.PatientNumber\n",
    "group_kfold = StratifiedGroupKFold(n_splits=5) #Using stratified K-fold to make sure labels are stratified\n",
    "cv = group_kfold.get_n_splits(X1,y1, groups)\n",
    "\n",
    "# Creating predictions dataframes to export later\n",
    "test1_pred = pd.DataFrame()\n",
    "test2_pred = pd.DataFrame()"
   ]
  },
  {
   "cell_type": "code",
   "execution_count": 17,
   "id": "c3f4d95f-9aad-49bb-8f07-e0cfa54abf42",
   "metadata": {
    "scrolled": true
   },
   "outputs": [
    {
     "name": "stdout",
     "output_type": "stream",
     "text": [
      "XGBoost model, ikarus features, test set 1\n",
      "# cells in training: 33043, # cells in test: 10359\n",
      "[[3533  437]\n",
      " [ 102 6287]]\n"
     ]
    },
    {
     "data": {
      "text/html": [
       "<div>\n",
       "<style scoped>\n",
       "    .dataframe tbody tr th:only-of-type {\n",
       "        vertical-align: middle;\n",
       "    }\n",
       "\n",
       "    .dataframe tbody tr th {\n",
       "        vertical-align: top;\n",
       "    }\n",
       "\n",
       "    .dataframe thead th {\n",
       "        text-align: right;\n",
       "    }\n",
       "</style>\n",
       "<table border=\"1\" class=\"dataframe\">\n",
       "  <thead>\n",
       "    <tr style=\"text-align: right;\">\n",
       "      <th></th>\n",
       "      <th>recall</th>\n",
       "      <th>precision</th>\n",
       "      <th>f1</th>\n",
       "      <th>accuracy</th>\n",
       "    </tr>\n",
       "  </thead>\n",
       "  <tbody>\n",
       "    <tr>\n",
       "      <th>0</th>\n",
       "      <td>0.984</td>\n",
       "      <td>0.935</td>\n",
       "      <td>0.959</td>\n",
       "      <td>0.948</td>\n",
       "    </tr>\n",
       "  </tbody>\n",
       "</table>\n",
       "</div>"
      ],
      "text/plain": [
       "   recall  precision     f1  accuracy\n",
       "0   0.984      0.935  0.959     0.948"
      ]
     },
     "metadata": {},
     "output_type": "display_data"
    },
    {
     "name": "stdout",
     "output_type": "stream",
     "text": [
      "XGBoost model, ikarus features, test set 2\n",
      "# cells in training: 33043, # cells in test: 9856\n",
      "[[7766  317]\n",
      " [  20 1753]]\n"
     ]
    },
    {
     "data": {
      "text/html": [
       "<div>\n",
       "<style scoped>\n",
       "    .dataframe tbody tr th:only-of-type {\n",
       "        vertical-align: middle;\n",
       "    }\n",
       "\n",
       "    .dataframe tbody tr th {\n",
       "        vertical-align: top;\n",
       "    }\n",
       "\n",
       "    .dataframe thead th {\n",
       "        text-align: right;\n",
       "    }\n",
       "</style>\n",
       "<table border=\"1\" class=\"dataframe\">\n",
       "  <thead>\n",
       "    <tr style=\"text-align: right;\">\n",
       "      <th></th>\n",
       "      <th>recall</th>\n",
       "      <th>precision</th>\n",
       "      <th>f1</th>\n",
       "      <th>accuracy</th>\n",
       "    </tr>\n",
       "  </thead>\n",
       "  <tbody>\n",
       "    <tr>\n",
       "      <th>0</th>\n",
       "      <td>0.989</td>\n",
       "      <td>0.847</td>\n",
       "      <td>0.912</td>\n",
       "      <td>0.966</td>\n",
       "    </tr>\n",
       "  </tbody>\n",
       "</table>\n",
       "</div>"
      ],
      "text/plain": [
       "   recall  precision     f1  accuracy\n",
       "0   0.989      0.847  0.912     0.966"
      ]
     },
     "metadata": {},
     "output_type": "display_data"
    }
   ],
   "source": [
    "# Run XGBoost model using DGE hyperparameters on the two test sets\n",
    "clf_dge = XGBClassifier(eta = 0.3, max_depth = 3, n_estimators = 200, random_state = RANDOM_STATE) \n",
    "\n",
    "print(f'XGBoost model, ikarus features, test set 1')\n",
    "xgboost_ikarus_metrics1, xgboost_ikarus_cm1 = mf.train_test_model(clf_dge, X1, y1, X2, y2, ikarus_genes)\n",
    "xgboost_ikarus_metrics1['model'] = 'xgboost'\n",
    "xgboost_ikarus_metrics1['feat_set'] = 'ikarus'\n",
    "xgboost_ikarus_metrics1['dataset'] = 'test1'\n",
    "print(f'XGBoost model, ikarus features, test set 2')\n",
    "xgboost_ikarus_metrics2, xgboost_ikarus_cm2 = mf.train_test_model(clf_dge, X1, y1, X3, y3, ikarus_genes)\n",
    "xgboost_ikarus_metrics2['model'] = 'xgboost'\n",
    "xgboost_ikarus_metrics2['feat_set'] = 'ikarus'\n",
    "xgboost_ikarus_metrics2['dataset'] = 'test1'\n",
    "\n",
    "metrics_df_models = pd.concat([metrics_df_models, xgboost_ikarus_metrics1])\n",
    "metrics_df_models = pd.concat([metrics_df_models, xgboost_ikarus_metrics2])\n",
    "metrics_df_models.to_csv('SuppTableS4_ikarus_swapped_feat_metrics.csv')"
   ]
  },
  {
   "cell_type": "code",
   "execution_count": 18,
   "id": "49f85f3c-526f-4f69-9f77-479dea4bf231",
   "metadata": {},
   "outputs": [
    {
     "name": "stdout",
     "output_type": "stream",
     "text": [
      "[[3485  485]\n",
      " [ 852 5537]]\n"
     ]
    },
    {
     "data": {
      "text/html": [
       "<div>\n",
       "<style scoped>\n",
       "    .dataframe tbody tr th:only-of-type {\n",
       "        vertical-align: middle;\n",
       "    }\n",
       "\n",
       "    .dataframe tbody tr th {\n",
       "        vertical-align: top;\n",
       "    }\n",
       "\n",
       "    .dataframe thead th {\n",
       "        text-align: right;\n",
       "    }\n",
       "</style>\n",
       "<table border=\"1\" class=\"dataframe\">\n",
       "  <thead>\n",
       "    <tr style=\"text-align: right;\">\n",
       "      <th></th>\n",
       "      <th>recall</th>\n",
       "      <th>precision</th>\n",
       "      <th>f1</th>\n",
       "      <th>accuracy</th>\n",
       "    </tr>\n",
       "  </thead>\n",
       "  <tbody>\n",
       "    <tr>\n",
       "      <th>0</th>\n",
       "      <td>0.867</td>\n",
       "      <td>0.919</td>\n",
       "      <td>0.892</td>\n",
       "      <td>0.871</td>\n",
       "    </tr>\n",
       "  </tbody>\n",
       "</table>\n",
       "</div>"
      ],
      "text/plain": [
       "   recall  precision     f1  accuracy\n",
       "0   0.867      0.919  0.892     0.871"
      ]
     },
     "metadata": {},
     "output_type": "display_data"
    },
    {
     "name": "stdout",
     "output_type": "stream",
     "text": [
      "[[7587  496]\n",
      " [ 100 1673]]\n"
     ]
    },
    {
     "data": {
      "text/html": [
       "<div>\n",
       "<style scoped>\n",
       "    .dataframe tbody tr th:only-of-type {\n",
       "        vertical-align: middle;\n",
       "    }\n",
       "\n",
       "    .dataframe tbody tr th {\n",
       "        vertical-align: top;\n",
       "    }\n",
       "\n",
       "    .dataframe thead th {\n",
       "        text-align: right;\n",
       "    }\n",
       "</style>\n",
       "<table border=\"1\" class=\"dataframe\">\n",
       "  <thead>\n",
       "    <tr style=\"text-align: right;\">\n",
       "      <th></th>\n",
       "      <th>recall</th>\n",
       "      <th>precision</th>\n",
       "      <th>f1</th>\n",
       "      <th>accuracy</th>\n",
       "    </tr>\n",
       "  </thead>\n",
       "  <tbody>\n",
       "    <tr>\n",
       "      <th>0</th>\n",
       "      <td>0.944</td>\n",
       "      <td>0.771</td>\n",
       "      <td>0.849</td>\n",
       "      <td>0.94</td>\n",
       "    </tr>\n",
       "  </tbody>\n",
       "</table>\n",
       "</div>"
      ],
      "text/plain": [
       "   recall  precision     f1  accuracy\n",
       "0   0.944      0.771  0.849      0.94"
      ]
     },
     "metadata": {},
     "output_type": "display_data"
    },
    {
     "name": "stdout",
     "output_type": "stream",
     "text": [
      "[[3657  313]\n",
      " [   8 6381]]\n"
     ]
    },
    {
     "data": {
      "text/html": [
       "<div>\n",
       "<style scoped>\n",
       "    .dataframe tbody tr th:only-of-type {\n",
       "        vertical-align: middle;\n",
       "    }\n",
       "\n",
       "    .dataframe tbody tr th {\n",
       "        vertical-align: top;\n",
       "    }\n",
       "\n",
       "    .dataframe thead th {\n",
       "        text-align: right;\n",
       "    }\n",
       "</style>\n",
       "<table border=\"1\" class=\"dataframe\">\n",
       "  <thead>\n",
       "    <tr style=\"text-align: right;\">\n",
       "      <th></th>\n",
       "      <th>recall</th>\n",
       "      <th>precision</th>\n",
       "      <th>f1</th>\n",
       "      <th>accuracy</th>\n",
       "    </tr>\n",
       "  </thead>\n",
       "  <tbody>\n",
       "    <tr>\n",
       "      <th>0</th>\n",
       "      <td>0.999</td>\n",
       "      <td>0.953</td>\n",
       "      <td>0.975</td>\n",
       "      <td>0.969</td>\n",
       "    </tr>\n",
       "  </tbody>\n",
       "</table>\n",
       "</div>"
      ],
      "text/plain": [
       "   recall  precision     f1  accuracy\n",
       "0   0.999      0.953  0.975     0.969"
      ]
     },
     "metadata": {},
     "output_type": "display_data"
    },
    {
     "name": "stdout",
     "output_type": "stream",
     "text": [
      "[[8079    4]\n",
      " [  10 1763]]\n"
     ]
    },
    {
     "data": {
      "text/html": [
       "<div>\n",
       "<style scoped>\n",
       "    .dataframe tbody tr th:only-of-type {\n",
       "        vertical-align: middle;\n",
       "    }\n",
       "\n",
       "    .dataframe tbody tr th {\n",
       "        vertical-align: top;\n",
       "    }\n",
       "\n",
       "    .dataframe thead th {\n",
       "        text-align: right;\n",
       "    }\n",
       "</style>\n",
       "<table border=\"1\" class=\"dataframe\">\n",
       "  <thead>\n",
       "    <tr style=\"text-align: right;\">\n",
       "      <th></th>\n",
       "      <th>recall</th>\n",
       "      <th>precision</th>\n",
       "      <th>f1</th>\n",
       "      <th>accuracy</th>\n",
       "    </tr>\n",
       "  </thead>\n",
       "  <tbody>\n",
       "    <tr>\n",
       "      <th>0</th>\n",
       "      <td>0.994</td>\n",
       "      <td>0.998</td>\n",
       "      <td>0.996</td>\n",
       "      <td>0.999</td>\n",
       "    </tr>\n",
       "  </tbody>\n",
       "</table>\n",
       "</div>"
      ],
      "text/plain": [
       "   recall  precision     f1  accuracy\n",
       "0   0.994      0.998  0.996     0.999"
      ]
     },
     "metadata": {},
     "output_type": "display_data"
    }
   ],
   "source": [
    "# Run confusion matrices with labels without network propagation for ikarus\n",
    "\n",
    "baseline_ikarus_path = '../out/train_ikarus_dge/' # Change to 'train_ikarus_baseline'\n",
    "dge_ikarus_path = '../out/train_model_dge/' # change to ../out/train_ikarus_dge/\n",
    "\n",
    "# Baseline ikarus\n",
    "y_test1 = test1_adata.obs.orig_cancer_label\n",
    "y_pred1 = pd.read_csv(baseline_ikarus_path + 'test1/prediction.csv', index_col = 0)['core_pred']\n",
    "ikarus_baseline_metrics1, ikarus_baseline_cm1 = calc_eval_metrics(y_test1, y_pred1)\n",
    "\n",
    "y_test2 = test2_adata.obs.orig_cancer_label\n",
    "y_pred2 = pd.read_csv(baseline_ikarus_path + 'test2/prediction.csv', index_col = 0)['core_pred']\n",
    "ikarus_baseline_metrics2, ikarus_baseline_cm2 = calc_eval_metrics(y_test2, y_pred2)\n",
    "\n",
    "# ikarus with DGE features\n",
    "y_pred1 = pd.read_csv(dge_ikarus_path + 'test1/prediction.csv', index_col = 0)['core_pred']\n",
    "ikarus_baseline_metrics1, ikarus_baseline_cm1 = calc_eval_metrics(y_test1, y_pred1)\n",
    "\n",
    "y_pred2 = pd.read_csv(dge_ikarus_path + 'test2/prediction.csv', index_col = 0)['core_pred']\n",
    "ikarus_baseline_metrics2, ikarus_baseline_cm2 = calc_eval_metrics(y_test2, y_pred2)"
   ]
  },
  {
   "cell_type": "code",
   "execution_count": null,
   "id": "90267743-571f-4013-98c3-6e4d7ee5bc33",
   "metadata": {},
   "outputs": [],
   "source": [
    "# Also run logistic regression model with ikarus features - same metrics as without network propagation?"
   ]
  }
 ],
 "metadata": {
  "kernelspec": {
   "display_name": "Python 3 (ipykernel)",
   "language": "python",
   "name": "python3"
  },
  "language_info": {
   "codemirror_mode": {
    "name": "ipython",
    "version": 3
   },
   "file_extension": ".py",
   "mimetype": "text/x-python",
   "name": "python",
   "nbconvert_exporter": "python",
   "pygments_lexer": "ipython3",
   "version": "3.11.0"
  }
 },
 "nbformat": 4,
 "nbformat_minor": 5
}
