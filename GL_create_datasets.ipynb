{
 "cells": [
  {
   "cell_type": "markdown",
   "id": "f8644c5f-7f9c-430e-b999-b34bd2228a6a",
   "metadata": {
    "id": "f8644c5f-7f9c-430e-b999-b34bd2228a6a"
   },
   "source": [
    "Notebook to create datasets"
   ]
  },
  {
   "cell_type": "code",
   "execution_count": null,
   "id": "298ddffa-a662-4cf4-b0af-9e38568f6859",
   "metadata": {
    "colab": {
     "base_uri": "https://localhost:8080/"
    },
    "executionInfo": {
     "elapsed": 17856,
     "status": "ok",
     "timestamp": 1732237983830,
     "user": {
      "displayName": "Gretchen Lam",
      "userId": "01122465778512776313"
     },
     "user_tz": 300
    },
    "id": "298ddffa-a662-4cf4-b0af-9e38568f6859",
    "outputId": "11f2d4ed-8b05-4606-f4ee-9bdb6525e9c5",
    "scrolled": true
   },
   "outputs": [],
   "source": [
    "# Installing packages\n",
    "#!pip install scanpy[skmisc]"
   ]
  },
  {
   "cell_type": "code",
   "execution_count": null,
   "id": "mzQz5Itt1TtO",
   "metadata": {
    "colab": {
     "base_uri": "https://localhost:8080/"
    },
    "executionInfo": {
     "elapsed": 5327,
     "status": "ok",
     "timestamp": 1732240691578,
     "user": {
      "displayName": "Gretchen Lam",
      "userId": "01122465778512776313"
     },
     "user_tz": 300
    },
    "id": "mzQz5Itt1TtO",
    "jupyter": {
     "source_hidden": true
    },
    "outputId": "f3b36fde-812d-4bc3-9409-ec6a210f6377"
   },
   "outputs": [],
   "source": [
    "# For Colab\n",
    "from google.colab import drive\n",
    "drive.mount('/content/drive')\n",
    "\n",
    "# Set up paths to files\n",
    "main_dir = '/content/drive/MyDrive/_Course materials/S6 M2-4 699 - Capstone/'\n",
    "data_path = '/content/drive/MyDrive/_Course materials/S6 M2-4 699 - Capstone/Capstone - Shared folder/Data/'\n",
    "scripts_path = main_dir + 'scripts/'\n",
    "\n",
    "# Change into correct directory for importing custom preprocessing function\n",
    "%cd {main_dir}scripts/Cancer_Prediction_10x\n",
    "# %pwd"
   ]
  },
  {
   "cell_type": "code",
   "execution_count": 1,
   "id": "826c0348-2e76-4e2d-8b2d-a8e0510fa5e5",
   "metadata": {
    "executionInfo": {
     "elapsed": 10152,
     "status": "ok",
     "timestamp": 1732240701728,
     "user": {
      "displayName": "Gretchen Lam",
      "userId": "01122465778512776313"
     },
     "user_tz": 300
    },
    "id": "826c0348-2e76-4e2d-8b2d-a8e0510fa5e5"
   },
   "outputs": [
    {
     "name": "stderr",
     "output_type": "stream",
     "text": [
      "/sw/pkgs/arc/mamba/py3.10/lib/python3.10/site-packages/tqdm/auto.py:21: TqdmWarning: IProgress not found. Please update jupyter and ipywidgets. See https://ipywidgets.readthedocs.io/en/stable/user_install.html\n",
      "  from .autonotebook import tqdm as notebook_tqdm\n"
     ]
    }
   ],
   "source": [
    "from main_functions import *\n",
    "\n",
    "import os\n",
    "from pathlib import Path\n",
    "import pandas as pd\n",
    "import numpy as np\n",
    "import scanpy as sc"
   ]
  },
  {
   "cell_type": "code",
   "execution_count": null,
   "id": "b313737b-bfda-41a2-b863-a63b5fbae8d8",
   "metadata": {
    "id": "b313737b-bfda-41a2-b863-a63b5fbae8d8"
   },
   "outputs": [],
   "source": [
    "# Training dataset - Qian 2020, EMTAB8107\n",
    "#adata_train = create_adata_train('EMTAB8107_2102-Breastcancer_counts','BRCA_EMTAB8107_expression.h5','EMTAB8107_2103-Breastcancer_metadata.csv.gz')\n",
    "\n",
    "# Save adata to h5ad\n",
    "#adata_train.write_h5ad('adata_train.h5ad')"
   ]
  },
  {
   "cell_type": "code",
   "execution_count": null,
   "id": "e2f027b9-fc2d-4f48-be2e-aafabd97380e",
   "metadata": {
    "colab": {
     "base_uri": "https://localhost:8080/",
     "height": 398
    },
    "executionInfo": {
     "elapsed": 151695,
     "status": "ok",
     "timestamp": 1732229692098,
     "user": {
      "displayName": "Gretchen Lam",
      "userId": "01122465778512776313"
     },
     "user_tz": 300
    },
    "id": "e2f027b9-fc2d-4f48-be2e-aafabd97380e",
    "outputId": "249e85e8-6123-46c9-c61f-d3f02e252a82",
    "scrolled": true
   },
   "outputs": [],
   "source": [
    "# Test dataset - Gao 2021, GSE148673_RAW\n",
    "\n",
    "# For each .txt.gz file in directory, read in the count matrix and corresponding label\n",
    "dir_list = Path('../GSE148673_RAW').glob('**/*.txt.gz')\n",
    "#dir_list = Path(data_path + 'GSE148673_RAW').glob('**/*.txt.gz')\n",
    "obj_dict = {}\n",
    "\n",
    "for i, curr_file_path in enumerate(dir_list):\n",
    "  curr_filename = Path(curr_file_path.name).stem\n",
    "  base_name = curr_filename.split('_')[0]\n",
    "  print(curr_filename)\n",
    "  curr_df = sc.read_text(curr_file_path, dtype = 'str').to_df().transpose()\n",
    "  curr_df = curr_df.add_prefix(f'{base_name}@', axis=0)\n",
    "  # Add column for patient number\n",
    "  curr_df['PatientNumber'] = base_name\n",
    "  obj_dict[i] = curr_df\n",
    "#  display(obj_dict[i].head())\n",
    "#  print()\n",
    "\n",
    "# Concatenate counts and labels from all AnnData objects\n",
    "combined_df_10k = pd.concat(obj_dict.values(), ignore_index=False)\n",
    "print(combined_df_10k.shape)\n",
    "#display(combined_df_10k['PatientNumber'].head())"
   ]
  },
  {
   "cell_type": "code",
   "execution_count": null,
   "id": "ab3613c7-5f72-4c7f-9440-e975c27acc1b",
   "metadata": {
    "id": "ab3613c7-5f72-4c7f-9440-e975c27acc1b"
   },
   "outputs": [],
   "source": [
    "#combined_df_10k.to_hdf('../outputs/GSE148673_test.h5', key = 'combined_df_10k', mode = 'w')"
   ]
  },
  {
   "cell_type": "code",
   "execution_count": null,
   "id": "qs-PSBn65e_4",
   "metadata": {
    "colab": {
     "base_uri": "https://localhost:8080/",
     "height": 329
    },
    "executionInfo": {
     "elapsed": 487492,
     "status": "error",
     "timestamp": 1732230782387,
     "user": {
      "displayName": "Gretchen Lam",
      "userId": "01122465778512776313"
     },
     "user_tz": 300
    },
    "id": "qs-PSBn65e_4",
    "outputId": "f07a1153-6233-4bff-a224-10fdce1729fc"
   },
   "outputs": [],
   "source": [
    "combined_df_10k = pd.read_csv('../outputs/GSE148673_test.csv.gz', index_col = 0) #data_path + 'GSE148673_test.csv.gz'\n",
    "print(combined_df_10k.shape)\n",
    "display(combined_df_10k.head())"
   ]
  },
  {
   "cell_type": "code",
   "execution_count": null,
   "id": "03af62c3-ff60-4869-9526-e1078e69672d",
   "metadata": {
    "id": "03af62c3-ff60-4869-9526-e1078e69672d"
   },
   "outputs": [],
   "source": [
    "combined_df_10k.to_csv('../outputs/GSE148673_test.csv.gz')"
   ]
  },
  {
   "cell_type": "code",
   "execution_count": null,
   "id": "2c223f7a-1a58-4249-aade-26dfb9010077",
   "metadata": {
    "executionInfo": {
     "elapsed": 4,
     "status": "aborted",
     "timestamp": 1732230782387,
     "user": {
      "displayName": "Gretchen Lam",
      "userId": "01122465778512776313"
     },
     "user_tz": 300
    },
    "id": "2c223f7a-1a58-4249-aade-26dfb9010077",
    "outputId": "44dd868e-e43a-4cd7-a821-c04dfc79f098"
   },
   "outputs": [],
   "source": [
    "# Separate labels and counts into separate dataframes\n",
    "labels = ['copykat.pred', 'cluster.pred', 'PatientNumber']\n",
    "df_labels = combined_df_10k[labels]\n",
    "df_counts = combined_df_10k.drop(labels, axis = 1)\n",
    "display(df_counts.head())\n",
    "#df_counts.to_csv(data_path + 'GSE148673_test_v2.csv.gz')\n",
    "#df_counts.to_csv('../outputs/GSE148673_test_v2.csv.gz')\n",
    "\n",
    "# Create new label column - orig_cancer_labels. Tumor if copykat and cluster agree, Normal otherwise\n",
    "df_labels.index.name = 'Cell'\n",
    "df_labels['CellType'] = np.where((df_labels['copykat.pred'] == 'T') & \\\n",
    "                                          (df_labels['cluster.pred'] == 'T'),\n",
    "                                          'Cancer', 'Normal')\n",
    "display(df_labels.head())\n",
    "\n",
    "# Need to add PatientNumber to label\n",
    "\n",
    "#df_labels.to_csv('../GSE148673_labels.csv')\n",
    "#df_labels.to_csv(data_path + 'GSE148673_labels.csv') #, index = False"
   ]
  },
  {
   "cell_type": "code",
   "execution_count": null,
   "id": "6NT5v-TT8Vfl",
   "metadata": {
    "colab": {
     "base_uri": "https://localhost:8080/",
     "height": 206
    },
    "executionInfo": {
     "elapsed": 10,
     "status": "ok",
     "timestamp": 1732229930214,
     "user": {
      "displayName": "Gretchen Lam",
      "userId": "01122465778512776313"
     },
     "user_tz": 300
    },
    "id": "6NT5v-TT8Vfl",
    "outputId": "41fc0b97-ebfa-48f0-b67c-0fd19e835c4f"
   },
   "outputs": [],
   "source": [
    "df_labels = pd.read_csv(data_path + 'GSE148673_labels.csv')\n",
    "display(df_labels.head())\n",
    "#df_labels.to_csv(data_path + 'GSE148673_labels.csv') #, index = False"
   ]
  },
  {
   "cell_type": "code",
   "execution_count": null,
   "id": "f0552b4c-cd8e-45bf-a525-3b09689aac8e",
   "metadata": {
    "id": "f0552b4c-cd8e-45bf-a525-3b09689aac8e",
    "scrolled": true
   },
   "outputs": [],
   "source": [
    "# Generate anndata object with raw and normalized counts\n",
    "adata_10k_test = create_adata_train(data_path + 'GSE148673_test.csv.gz',\n",
    "                               data_path + 'BRCA_GSE148673_expression.h5',\n",
    "                               data_path + 'GSE148673_labels.csv')\n",
    "adata_10k_test.write_h5ad(scripts_path + 'Outputs/adata_10k_test_GSE148673.h5ad')"
   ]
  },
  {
   "cell_type": "code",
   "execution_count": 2,
   "id": "65fdaa27-35d6-4a6f-8b49-41badce96d3b",
   "metadata": {
    "id": "65fdaa27-35d6-4a6f-8b49-41badce96d3b",
    "outputId": "11b29af0-0f14-4f38-b13e-59c562412add",
    "scrolled": true
   },
   "outputs": [
    {
     "name": "stdout",
     "output_type": "stream",
     "text": [
      "raw_counts_df:\n"
     ]
    },
    {
     "data": {
      "text/html": [
       "<div>\n",
       "<style scoped>\n",
       "    .dataframe tbody tr th:only-of-type {\n",
       "        vertical-align: middle;\n",
       "    }\n",
       "\n",
       "    .dataframe tbody tr th {\n",
       "        vertical-align: top;\n",
       "    }\n",
       "\n",
       "    .dataframe thead th {\n",
       "        text-align: right;\n",
       "    }\n",
       "</style>\n",
       "<table border=\"1\" class=\"dataframe\">\n",
       "  <thead>\n",
       "    <tr style=\"text-align: right;\">\n",
       "      <th></th>\n",
       "      <th>RP11-34P13.3</th>\n",
       "      <th>FAM138A</th>\n",
       "      <th>OR4F5</th>\n",
       "      <th>RP11-34P13.7</th>\n",
       "      <th>RP11-34P13.8</th>\n",
       "      <th>RP11-34P13.14</th>\n",
       "      <th>RP11-34P13.9</th>\n",
       "      <th>FO538757.3</th>\n",
       "      <th>FO538757.2</th>\n",
       "      <th>AP006222.2</th>\n",
       "      <th>...</th>\n",
       "      <th>AP001468.1</th>\n",
       "      <th>AP001469.1</th>\n",
       "      <th>AP001469.2</th>\n",
       "      <th>AP001469.3</th>\n",
       "      <th>AC136352.3</th>\n",
       "      <th>AC136352.2</th>\n",
       "      <th>AC171558.3</th>\n",
       "      <th>BX004987.1</th>\n",
       "      <th>AC145212.1</th>\n",
       "      <th>MAFIP</th>\n",
       "    </tr>\n",
       "  </thead>\n",
       "  <tbody>\n",
       "    <tr>\n",
       "      <th>GSM4476486@AAACCTGCACCTTGTC</th>\n",
       "      <td>0.0</td>\n",
       "      <td>0</td>\n",
       "      <td>0</td>\n",
       "      <td>0.0</td>\n",
       "      <td>0.0</td>\n",
       "      <td>0.0</td>\n",
       "      <td>0.0</td>\n",
       "      <td>0.0</td>\n",
       "      <td>1.0</td>\n",
       "      <td>0.0</td>\n",
       "      <td>...</td>\n",
       "      <td>NaN</td>\n",
       "      <td>NaN</td>\n",
       "      <td>NaN</td>\n",
       "      <td>NaN</td>\n",
       "      <td>NaN</td>\n",
       "      <td>NaN</td>\n",
       "      <td>NaN</td>\n",
       "      <td>NaN</td>\n",
       "      <td>NaN</td>\n",
       "      <td>NaN</td>\n",
       "    </tr>\n",
       "    <tr>\n",
       "      <th>GSM4476486@AAACGGGAGTCCTCCT</th>\n",
       "      <td>0.0</td>\n",
       "      <td>0</td>\n",
       "      <td>0</td>\n",
       "      <td>0.0</td>\n",
       "      <td>0.0</td>\n",
       "      <td>0.0</td>\n",
       "      <td>0.0</td>\n",
       "      <td>0.0</td>\n",
       "      <td>0.0</td>\n",
       "      <td>0.0</td>\n",
       "      <td>...</td>\n",
       "      <td>NaN</td>\n",
       "      <td>NaN</td>\n",
       "      <td>NaN</td>\n",
       "      <td>NaN</td>\n",
       "      <td>NaN</td>\n",
       "      <td>NaN</td>\n",
       "      <td>NaN</td>\n",
       "      <td>NaN</td>\n",
       "      <td>NaN</td>\n",
       "      <td>NaN</td>\n",
       "    </tr>\n",
       "    <tr>\n",
       "      <th>GSM4476486@AAACGGGTCCAGAGGA</th>\n",
       "      <td>0.0</td>\n",
       "      <td>0</td>\n",
       "      <td>0</td>\n",
       "      <td>0.0</td>\n",
       "      <td>0.0</td>\n",
       "      <td>0.0</td>\n",
       "      <td>0.0</td>\n",
       "      <td>0.0</td>\n",
       "      <td>0.0</td>\n",
       "      <td>0.0</td>\n",
       "      <td>...</td>\n",
       "      <td>NaN</td>\n",
       "      <td>NaN</td>\n",
       "      <td>NaN</td>\n",
       "      <td>NaN</td>\n",
       "      <td>NaN</td>\n",
       "      <td>NaN</td>\n",
       "      <td>NaN</td>\n",
       "      <td>NaN</td>\n",
       "      <td>NaN</td>\n",
       "      <td>NaN</td>\n",
       "    </tr>\n",
       "    <tr>\n",
       "      <th>GSM4476486@AAAGATGCAGTTTACG</th>\n",
       "      <td>0.0</td>\n",
       "      <td>0</td>\n",
       "      <td>0</td>\n",
       "      <td>0.0</td>\n",
       "      <td>0.0</td>\n",
       "      <td>0.0</td>\n",
       "      <td>0.0</td>\n",
       "      <td>0.0</td>\n",
       "      <td>0.0</td>\n",
       "      <td>0.0</td>\n",
       "      <td>...</td>\n",
       "      <td>NaN</td>\n",
       "      <td>NaN</td>\n",
       "      <td>NaN</td>\n",
       "      <td>NaN</td>\n",
       "      <td>NaN</td>\n",
       "      <td>NaN</td>\n",
       "      <td>NaN</td>\n",
       "      <td>NaN</td>\n",
       "      <td>NaN</td>\n",
       "      <td>NaN</td>\n",
       "    </tr>\n",
       "    <tr>\n",
       "      <th>GSM4476486@AAAGCAACAGGAATGC</th>\n",
       "      <td>0.0</td>\n",
       "      <td>0</td>\n",
       "      <td>0</td>\n",
       "      <td>0.0</td>\n",
       "      <td>0.0</td>\n",
       "      <td>0.0</td>\n",
       "      <td>0.0</td>\n",
       "      <td>0.0</td>\n",
       "      <td>0.0</td>\n",
       "      <td>0.0</td>\n",
       "      <td>...</td>\n",
       "      <td>NaN</td>\n",
       "      <td>NaN</td>\n",
       "      <td>NaN</td>\n",
       "      <td>NaN</td>\n",
       "      <td>NaN</td>\n",
       "      <td>NaN</td>\n",
       "      <td>NaN</td>\n",
       "      <td>NaN</td>\n",
       "      <td>NaN</td>\n",
       "      <td>NaN</td>\n",
       "    </tr>\n",
       "  </tbody>\n",
       "</table>\n",
       "<p>5 rows × 45083 columns</p>\n",
       "</div>"
      ],
      "text/plain": [
       "                             RP11-34P13.3  FAM138A  OR4F5  RP11-34P13.7  \\\n",
       "GSM4476486@AAACCTGCACCTTGTC           0.0        0      0           0.0   \n",
       "GSM4476486@AAACGGGAGTCCTCCT           0.0        0      0           0.0   \n",
       "GSM4476486@AAACGGGTCCAGAGGA           0.0        0      0           0.0   \n",
       "GSM4476486@AAAGATGCAGTTTACG           0.0        0      0           0.0   \n",
       "GSM4476486@AAAGCAACAGGAATGC           0.0        0      0           0.0   \n",
       "\n",
       "                             RP11-34P13.8  RP11-34P13.14  RP11-34P13.9  \\\n",
       "GSM4476486@AAACCTGCACCTTGTC           0.0            0.0           0.0   \n",
       "GSM4476486@AAACGGGAGTCCTCCT           0.0            0.0           0.0   \n",
       "GSM4476486@AAACGGGTCCAGAGGA           0.0            0.0           0.0   \n",
       "GSM4476486@AAAGATGCAGTTTACG           0.0            0.0           0.0   \n",
       "GSM4476486@AAAGCAACAGGAATGC           0.0            0.0           0.0   \n",
       "\n",
       "                             FO538757.3  FO538757.2  AP006222.2  ...  \\\n",
       "GSM4476486@AAACCTGCACCTTGTC         0.0         1.0         0.0  ...   \n",
       "GSM4476486@AAACGGGAGTCCTCCT         0.0         0.0         0.0  ...   \n",
       "GSM4476486@AAACGGGTCCAGAGGA         0.0         0.0         0.0  ...   \n",
       "GSM4476486@AAAGATGCAGTTTACG         0.0         0.0         0.0  ...   \n",
       "GSM4476486@AAAGCAACAGGAATGC         0.0         0.0         0.0  ...   \n",
       "\n",
       "                             AP001468.1  AP001469.1  AP001469.2  AP001469.3  \\\n",
       "GSM4476486@AAACCTGCACCTTGTC         NaN         NaN         NaN         NaN   \n",
       "GSM4476486@AAACGGGAGTCCTCCT         NaN         NaN         NaN         NaN   \n",
       "GSM4476486@AAACGGGTCCAGAGGA         NaN         NaN         NaN         NaN   \n",
       "GSM4476486@AAAGATGCAGTTTACG         NaN         NaN         NaN         NaN   \n",
       "GSM4476486@AAAGCAACAGGAATGC         NaN         NaN         NaN         NaN   \n",
       "\n",
       "                             AC136352.3  AC136352.2  AC171558.3  BX004987.1  \\\n",
       "GSM4476486@AAACCTGCACCTTGTC         NaN         NaN         NaN         NaN   \n",
       "GSM4476486@AAACGGGAGTCCTCCT         NaN         NaN         NaN         NaN   \n",
       "GSM4476486@AAACGGGTCCAGAGGA         NaN         NaN         NaN         NaN   \n",
       "GSM4476486@AAAGATGCAGTTTACG         NaN         NaN         NaN         NaN   \n",
       "GSM4476486@AAAGCAACAGGAATGC         NaN         NaN         NaN         NaN   \n",
       "\n",
       "                             AC145212.1  MAFIP  \n",
       "GSM4476486@AAACCTGCACCTTGTC         NaN    NaN  \n",
       "GSM4476486@AAACGGGAGTCCTCCT         NaN    NaN  \n",
       "GSM4476486@AAACGGGTCCAGAGGA         NaN    NaN  \n",
       "GSM4476486@AAAGATGCAGTTTACG         NaN    NaN  \n",
       "GSM4476486@AAAGCAACAGGAATGC         NaN    NaN  \n",
       "\n",
       "[5 rows x 45083 columns]"
      ]
     },
     "metadata": {},
     "output_type": "display_data"
    },
    {
     "name": "stderr",
     "output_type": "stream",
     "text": [
      "/home/gylam/.local/lib/python3.10/site-packages/anndata/utils.py:304: UserWarning: X converted to numpy array with dtype float64\n",
      "  warnings.warn(f\"{name} converted to numpy array with dtype {arr.dtype}\")\n"
     ]
    },
    {
     "name": "stdout",
     "output_type": "stream",
     "text": [
      "raw_counts_ann: AnnData object with n_obs × n_vars = 10424 × 45083\n",
      "Dataset has 10359 cells and 19203 features\n",
      "Size of raw dataset: \n",
      "Size: 1596.7 MB\n",
      "Size of normalized dataset:\n",
      "Size: 315.68 MB\n"
     ]
    }
   ],
   "source": [
    "# Great Lakes\n",
    "adata_10k_test = create_adata_train('../outputs/GSE148673_test.csv.gz',\n",
    "                               '../BRCA_GSE148673_expression.h5',\n",
    "                               '../GSE148673_labels.csv')\n",
    "adata_10k_test.write_h5ad('../outputs/adata_10k_test_GSE148673.h5ad')"
   ]
  },
  {
   "cell_type": "code",
   "execution_count": null,
   "id": "844c0f7a-55c0-4e64-993c-4470fc3fdb5a",
   "metadata": {
    "id": "844c0f7a-55c0-4e64-993c-4470fc3fdb5a",
    "outputId": "4ad1de00-d70e-48a6-f709-f0fc2b47fb7f"
   },
   "outputs": [],
   "source": [
    "# Create AnnData object directly from dataframes\n",
    "adata_10k_test = sc.AnnData(df_counts, obs = df_labels)\n",
    "adata_10k_test\n",
    "adata_10k_test.var.head()"
   ]
  },
  {
   "cell_type": "code",
   "execution_count": null,
   "id": "e734c387-9e0d-47f1-9803-42646ba90eab",
   "metadata": {
    "id": "e734c387-9e0d-47f1-9803-42646ba90eab"
   },
   "outputs": [],
   "source": [
    "# Dataset 3 - Chi 2020"
   ]
  }
 ],
 "metadata": {
  "colab": {
   "provenance": []
  },
  "kernelspec": {
   "display_name": "Python 3 (ipykernel)",
   "language": "python",
   "name": "python3"
  },
  "language_info": {
   "codemirror_mode": {
    "name": "ipython",
    "version": 3
   },
   "file_extension": ".py",
   "mimetype": "text/x-python",
   "name": "python",
   "nbconvert_exporter": "python",
   "pygments_lexer": "ipython3",
   "version": "3.10.14"
  }
 },
 "nbformat": 4,
 "nbformat_minor": 5
}
